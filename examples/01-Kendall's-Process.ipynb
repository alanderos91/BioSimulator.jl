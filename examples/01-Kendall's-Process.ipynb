{
 "cells": [
  {
   "cell_type": "code",
   "execution_count": 1,
   "metadata": {},
   "outputs": [
    {
     "name": "stdout",
     "output_type": "stream",
     "text": [
      "Julia Version 0.5.2\n",
      "Commit f4c6c9d4bb (2017-05-06 16:34 UTC)\n",
      "Platform Info:\n",
      "  OS: macOS (x86_64-apple-darwin13.4.0)\n",
      "  CPU: Intel(R) Core(TM) i7-4750HQ CPU @ 2.00GHz\n",
      "  WORD_SIZE: 64\n",
      "  BLAS: libopenblas (USE64BITINT DYNAMIC_ARCH NO_AFFINITY Haswell)\n",
      "  LAPACK: libopenblas64_\n",
      "  LIBM: libopenlibm\n",
      "  LLVM: libLLVM-3.7.1 (ORCJIT, haswell)\n"
     ]
    }
   ],
   "source": [
    "versioninfo()"
   ]
  },
  {
   "cell_type": "markdown",
   "metadata": {},
   "source": [
    "# Kendall's Process\n",
    "\n",
    "## Table of Contents\n",
    "\n",
    "1. [Background](#Background)\n",
    "2. [Introducing BioSimulator](#Introducing-BioSimulator)\n",
    "    1. [Building a Model](#Building-a-Model)\n",
    "    2. [Petri Nets](#Petri-Nets)\n",
    "    3. [Simulation](#Simulation)\n",
    "3. [Visualizing the Simulating Data](#Visualizing-the-Simulation-Data)\n",
    "    1. [Trajectory](#Trajectory)\n",
    "    2. [Mean Trajectory](#Mean-Trajectory)\n",
    "    3. [Histogram](#Histogram)\n",
    "4. [Benchmarks](#Benchmarks)\n",
    "    1. [SSA](#SSA)\n",
    "    2. [FRM](#FRM)\n",
    "    3. [NRM](#NRM)\n",
    "    4. [ODM](#ODM)\n",
    "    5. [SAL](#SAL)"
   ]
  },
  {
   "cell_type": "markdown",
   "metadata": {},
   "source": [
    "## Background\n",
    "\n",
    "First we review the mathematical background underlying Kendall's Process. Additional details may be found in Chapter 8, Section 7 of Dr. Kenneth Lange's *Applied Probability*, among many other resources.\n",
    "\n",
    "Kendall's process is a birth-death-immigration process with a single particle type $X$. Within a given volume $\\Omega$, a particle may either (1) experience a budding event $X \\to X + X$ with rate $\\alpha(t)$ per particle per time, or (2) decay $X \\to \\emptyset$ with rate $\\mu(t)$ per particle per time. Additionally, (3) particles outside $\\Omega$ may enter the system $\\emptyset \\to X$ according to a Poisson process with rate $\\nu(t)$ per unit time. We assume that the system is well-mixed; i.e. spatial homogeneity.\n",
    "\n",
    "The probabilities of being in state $j$ given the system was in state $i$ at time $t$, $p_{i,j}(t)$, are summarized by the forward equations\n",
    "\\begin{align*}\n",
    "    \\frac{d}{dt} p_{i,0}(t) &= -\\nu p_{i0}(t) + \\mu p_{i1}(t) \\\\\n",
    "    \\frac{d}{dt} p_{i,j}(t) &= -[\\nu + j \\alpha + j \\mu] p_{i,j}(t) + [\\nu + (j - 1) \\alpha] p_{i,j-1}(t) + (j + 1) \\mu p_{i,j+1}(t)\n",
    "\\end{align*}\n",
    "where we assume the rates $\\alpha(t)$, $\\mu(t)$, and $\\nu(t)$ are homogenous in time. This simplifying assumption permits the analytic solution for the mean number of particles:\n",
    "\\\\[\n",
    "m_{x_{0}}(t) = x_{0} e^{(\\alpha - \\mu) t} + \\frac{\\nu}{\\alpha - \\mu} \\left( e^{(\\alpha - \\mu) t} - 1 \\right),\n",
    "\\\\]\n",
    "where $x_{0}$ is the initial number of particles."
   ]
  },
  {
   "cell_type": "markdown",
   "metadata": {},
   "source": [
    "## Introducing BioSimulator\n",
    "\n",
    "### Building a Model\n",
    "\n",
    "First we load `BioSimulator.jl` and the model implemented by the function `kendall`."
   ]
  },
  {
   "cell_type": "code",
   "execution_count": 2,
   "metadata": {},
   "outputs": [
    {
     "data": {
      "text/html": [
       "<div id=\"interact-js-shim\">\n",
       "    <script charset=\"utf-8\">\n",
       "(function (IPython, $, _, MathJax) {\n",
       "    $.event.special.destroyed = {\n",
       "\tremove: function(o) {\n",
       "\t    if (o.handler) {\n",
       "\t\to.handler.apply(this, arguments)\n",
       "\t    }\n",
       "\t}\n",
       "    }\n",
       "\n",
       "    var OutputArea = IPython.version >= \"4.0.0\" ? require(\"notebook/js/outputarea\").OutputArea : IPython.OutputArea;\n",
       "\n",
       "    var redrawValue = function (container, type, val) {\n",
       "\tvar selector = $(\"<div/>\");\n",
       "\tvar oa = new OutputArea(_.extend(selector, {\n",
       "\t    selector: selector,\n",
       "\t    prompt_area: true,\n",
       "\t    events: IPython.events,\n",
       "\t    keyboard_manager: IPython.keyboard_manager\n",
       "\t})); // Hack to work with IPython 2.1.0\n",
       "\n",
       "\tswitch (type) {\n",
       "\tcase \"image/png\":\n",
       "            var _src = 'data:' + type + ';base64,' + val;\n",
       "\t    $(container).find(\"img\").attr('src', _src);\n",
       "\t    break;\n",
       "\tcase \"text/latex\":\n",
       "\t\tif (MathJax){\n",
       "\t\t\tvar math = MathJax.Hub.getAllJax(container)[0];\n",
       "\t\t\tMathJax.Hub.Queue([\"Text\", math, val.replace(/^\\${1,2}|\\${1,2}$/g, '')]);\n",
       "\t\t\tbreak;\n",
       "\t\t}\n",
       "\tdefault:\n",
       "\t    var toinsert = OutputArea.append_map[type].apply(\n",
       "\t\toa, [val, {}, selector]\n",
       "\t    );\n",
       "\t    $(container).empty().append(toinsert.contents());\n",
       "\t    selector.remove();\n",
       "\t}\n",
       "    }\n",
       "\n",
       "\n",
       "    $(document).ready(function() {\n",
       "\tfunction initComm(evt, data) {\n",
       "\t    var comm_manager = data.kernel.comm_manager;\n",
       "        //_.extend(comm_manager.targets, require(\"widgets/js/widget\"))\n",
       "\t    comm_manager.register_target(\"Signal\", function (comm) {\n",
       "            comm.on_msg(function (msg) {\n",
       "                var val = msg.content.data.value;\n",
       "                $(\".signal-\" + comm.comm_id).each(function() {\n",
       "                var type = $(this).data(\"type\");\n",
       "                if (typeof(val[type]) !== \"undefined\" && val[type] !== null) {\n",
       "                    redrawValue(this, type, val[type], type);\n",
       "                }\n",
       "                });\n",
       "                delete val;\n",
       "                delete msg.content.data.value;\n",
       "            });\n",
       "\t    });\n",
       "\n",
       "\t    // coordingate with Comm and redraw Signals\n",
       "\t    // XXX: Test using Reactive here to improve performance\n",
       "\t    $([IPython.events]).on(\n",
       "\t\t'output_appended.OutputArea', function (event, type, value, md, toinsert) {\n",
       "\t\t    if (md && md.reactive) {\n",
       "                // console.log(md.comm_id);\n",
       "                toinsert.addClass(\"signal-\" + md.comm_id);\n",
       "                toinsert.data(\"type\", type);\n",
       "                // Signal back indicating the mimetype required\n",
       "                var comm_manager = IPython.notebook.kernel.comm_manager;\n",
       "                var comm = comm_manager.comms[md.comm_id];\n",
       "                comm.then(function (c) {\n",
       "                    c.send({action: \"subscribe_mime\",\n",
       "                       mime: type});\n",
       "                    toinsert.bind(\"destroyed\", function() {\n",
       "                        c.send({action: \"unsubscribe_mime\",\n",
       "                               mime: type});\n",
       "                    });\n",
       "                })\n",
       "\t\t    }\n",
       "\t    });\n",
       "\t}\n",
       "\n",
       "\ttry {\n",
       "\t    // try to initialize right away. otherwise, wait on the status_started event.\n",
       "\t    initComm(undefined, IPython.notebook);\n",
       "\t} catch (e) {\n",
       "\t    $([IPython.events]).on('kernel_created.Kernel kernel_created.Session', initComm);\n",
       "\t}\n",
       "    });\n",
       "})(IPython, jQuery, _, MathJax);\n",
       "</script>\n",
       "    <script>\n",
       "        window.interactLoadedFlag = true\n",
       "       $(\"#interact-js-shim\").bind(\"destroyed\", function () {\n",
       "           if (window.interactLoadedFlag) {\n",
       "               console.warn(\"JavaScript required by Interact will be removed if you remove this cell or run using Interact more than once.\")\n",
       "           }\n",
       "       })\n",
       "       $([IPython.events]).on(\"kernel_starting.Kernel kernel_restarting.Kernel\", function () { window.interactLoadedFlag = false })\n",
       "   </script>\n",
       "</div>"
      ]
     },
     "metadata": {},
     "output_type": "display_data"
    },
    {
     "name": "stderr",
     "output_type": "stream",
     "text": [
      "WARNING: Method definition describe(AbstractArray) in module StatsBase at /Users/marysehl/.julia/v0.5/StatsBase/src/scalarstats.jl:560 overwritten in module DataFrames at /Users/marysehl/.julia/v0.5/DataFrames/src/abstractdataframe/abstractdataframe.jl:407.\n"
     ]
    }
   ],
   "source": [
    "using BioSimulator\n",
    "include(\"../test/test_models.jl\");"
   ]
  },
  {
   "cell_type": "markdown",
   "metadata": {},
   "source": [
    "See `test_models.jl` under the `test/` directory to see how the model is implemented. A `model` is initialized by constructing a `Network` object. Each particle/species in the model is defined using `model <= Species(...)`; each reaction is defined using `model <= Reaction(...)`."
   ]
  },
  {
   "cell_type": "code",
   "execution_count": 3,
   "metadata": {},
   "outputs": [
    {
     "name": "stdout",
     "output_type": "stream",
     "text": [
      "search: \u001b[1mS\u001b[22m\u001b[1mp\u001b[22m\u001b[1me\u001b[22m\u001b[1mc\u001b[22m\u001b[1mi\u001b[22m\u001b[1me\u001b[22m\u001b[1ms\u001b[22m \u001b[1ms\u001b[22m\u001b[1mp\u001b[22m\u001b[1me\u001b[22m\u001b[1mc\u001b[22m\u001b[1mi\u001b[22m\u001b[1me\u001b[22m\u001b[1ms\u001b[22m_list n_\u001b[1ms\u001b[22m\u001b[1mp\u001b[22m\u001b[1me\u001b[22m\u001b[1mc\u001b[22m\u001b[1mi\u001b[22m\u001b[1me\u001b[22m\u001b[1ms\u001b[22m \u001b[1ms\u001b[22m\u001b[1mp\u001b[22m\u001b[1me\u001b[22m\u001b[1mc\u001b[22m\u001b[1mi\u001b[22maliz\u001b[1me\u001b[22md_bitwi\u001b[1ms\u001b[22me_unary\n",
      "\n"
     ]
    },
    {
     "data": {
      "text/markdown": [
       "```\n",
       "Species(id, [value=0])\n",
       "```\n",
       "\n",
       "Define a `Species` with a `name` and initial population `value`.\n"
      ],
      "text/plain": [
       "```\n",
       "Species(id, [value=0])\n",
       "```\n",
       "\n",
       "Define a `Species` with a `name` and initial population `value`.\n"
      ]
     },
     "execution_count": 3,
     "metadata": {},
     "output_type": "execute_result"
    }
   ],
   "source": [
    "?Species"
   ]
  },
  {
   "cell_type": "code",
   "execution_count": 4,
   "metadata": {},
   "outputs": [
    {
     "name": "stdout",
     "output_type": "stream",
     "text": [
      "search: \u001b[1mR\u001b[22m\u001b[1me\u001b[22m\u001b[1ma\u001b[22m\u001b[1mc\u001b[22m\u001b[1mt\u001b[22m\u001b[1mi\u001b[22m\u001b[1mo\u001b[22m\u001b[1mn\u001b[22m \u001b[1mr\u001b[22m\u001b[1me\u001b[22m\u001b[1ma\u001b[22m\u001b[1mc\u001b[22m\u001b[1mt\u001b[22m\u001b[1mi\u001b[22m\u001b[1mo\u001b[22m\u001b[1mn\u001b[22m_list n_\u001b[1mr\u001b[22m\u001b[1me\u001b[22m\u001b[1ma\u001b[22m\u001b[1mc\u001b[22m\u001b[1mt\u001b[22m\u001b[1mi\u001b[22m\u001b[1mo\u001b[22m\u001b[1mn\u001b[22ms\n",
      "\n"
     ]
    },
    {
     "data": {
      "text/markdown": [
       "```\n",
       "Reaction(name, rate, formula)\n",
       "```\n",
       "\n",
       "Define a `Reaction` with a `name`, a stochastic `rate` constant, and a `formula`.\n",
       "\n",
       "The `formula` should use `Species` from a `Network`. Multiple reactants are separated by a `+` symbol; similarly for products. Reactants and products are separated by a `-->` symbol. Refer to the examples below:\n",
       "\n",
       "# Examples\n",
       "\n",
       "  * Reaction(\"birth\", 1.0, \"X –> X + X\")\n",
       "  * Reaction(\"death\", 0.5, \"X –> 0\") # no products\n",
       "  * Reaction(\"immigration\", 0.5, \"0 –> X\") # no reactants\n"
      ],
      "text/plain": [
       "```\n",
       "Reaction(name, rate, formula)\n",
       "```\n",
       "\n",
       "Define a `Reaction` with a `name`, a stochastic `rate` constant, and a `formula`.\n",
       "\n",
       "The `formula` should use `Species` from a `Network`. Multiple reactants are separated by a `+` symbol; similarly for products. Reactants and products are separated by a `-->` symbol. Refer to the examples below:\n",
       "\n",
       "# Examples\n",
       "\n",
       "  * Reaction(\"birth\", 1.0, \"X –> X + X\")\n",
       "  * Reaction(\"death\", 0.5, \"X –> 0\") # no products\n",
       "  * Reaction(\"immigration\", 0.5, \"0 –> X\") # no reactants\n"
      ]
     },
     "execution_count": 4,
     "metadata": {},
     "output_type": "execute_result"
    }
   ],
   "source": [
    "?Reaction"
   ]
  },
  {
   "cell_type": "code",
   "execution_count": 5,
   "metadata": {},
   "outputs": [
    {
     "name": "stdout",
     "output_type": "stream",
     "text": [
      "\"\"\"\n",
      "```\n",
      "kendall([i=5], [α=2.0], [μ=1.0], [ν=0.5])\n",
      "```\n",
      "Kendall's birth-death-immigration process.\n",
      "\n",
      "- `i`: initial number of particles\n",
      "- `α`: birth rate\n",
      "- `μ`: death rate\n",
      "- `ν`: immigration rate\n",
      "\"\"\"\n",
      "function kendall(\n",
      "  i :: Integer = 5,\n",
      "  α :: Float64 = 2.0,\n",
      "  μ :: Float64 = 1.0,\n",
      "  ν :: Float64 = 0.5)\n",
      "  m = Network(\"Kendall's Process\")\n",
      "\n",
      "  m <= Species(\"X\", i)\n",
      "\n",
      "  m <= Reaction(\"birth\",       α, \"X --> X + X\")\n",
      "  m <= Reaction(\"death\",       μ, \"X --> 0\")\n",
      "  m <= Reaction(\"immigration\", ν, \"0 --> X\")\n",
      "\n",
      "  return m\n",
      "end\n",
      "\n",
      "\"\"\"\n",
      "```\n",
      "linear(M, x0)\n",
      "```\n",
      "A linear chain system of `M` particle types, starting from `x0` initial particles of type 1. Taken from Cao, Li, & Petzold 2004.\n",
      "\n",
      "- `M`: the number of particle types\n",
      "- `x0`: the initial number of particles\n",
      "\"\"\"\n",
      "function linear(\n",
      "  M  :: Integer,\n",
      "  x0 :: Integer)\n",
      "  m = Network(\"linear chain ($M)\")\n",
      "\n",
      "  m <= Species(\"S1\", x0)\n",
      "\n",
      "  for i = 2:M\n",
      "    m <= Species(\"S$(i)\", 0)\n",
      "  end\n",
      "\n",
      "  for i = 1:M-1\n",
      "    m <= Reaction(\"R$(i)\", 1.0, \"S$(i) --> S$(i+1)\")\n",
      "    m <= Reaction(\"R$(M+i-1)\", 1.0, \"S$(i+1) --> S$(i)\")\n",
      "  end\n",
      "\n",
      "  return m\n",
      "end\n",
      "\n",
      "\"\"\"\n",
      "```\n",
      "independent(M, x0)\n",
      "```\n",
      "A system of independent reactions; there is a reaction for each of the `M` particle types.\n",
      "\n",
      "- `M`: the number of particle types\n",
      "- `x0`: the initial number of particles for each type\n",
      "\"\"\"\n",
      "function independent(M, x0)\n",
      "  m = Network(\"independent system $(M)\")\n",
      "\n",
      "  for i in 1:M\n",
      "    m <= Species(\"S$(i)\", x0)\n",
      "    m <= Reaction(\"R$(i)\", 1.0, \"S$(i) --> 0\")\n",
      "  end\n",
      "\n",
      "  return m\n",
      "end\n",
      "\n",
      "\"\"\"\n",
      "```\n",
      "autoreg([k1=1.0], [k1r=10.0], [k2=0.01], [k3=10.0], [k4=1.0], [k4r=1.0], [k5=0.1], [k6=0.01])\n",
      "```\n",
      "A simple prokaryotic auto-regulation network. RNA is transcribed from a particular gene and translated into a protein. The protein regulates its own transcription by forming a dimer that binds to a transcription site.\n",
      "\n",
      "- `k1`: repression rate\n",
      "- `k1r`: reverse repression rate\n",
      "- `k2`: transcription rate\n",
      "- `k3`: translation rate\n",
      "- `k4`: dimerization rate\n",
      "- `k4r`: dissociation rate\n",
      "- `k5`: RNA degradation rate\n",
      "- `k6`: protein degradation rate\n",
      "\"\"\"\n",
      "function autoreg(;k1=1.0, k1r=10.0, k2=0.01, k3=10.0, k4=1.0, k4r=1.0, k5=0.1, k6=0.01)\n",
      "  m = Network(\"auto-regulation\")\n",
      "\n",
      "  m <= Species(\"gene\",   10)\n",
      "  m <= Species(\"P2_gene\", 0)\n",
      "  m <= Species(\"RNA\",     0)\n",
      "  m <= Species(\"P\",       0)\n",
      "  m <= Species(\"P2\",      0)\n",
      "\n",
      "  m <= Reaction(\"repression binding\", k1, \"gene + P2 --> P2_gene\")\n",
      "  m <= Reaction(\"reverse repression binding\", k1r, \"P2_gene --> gene + P2\")\n",
      "  m <= Reaction(\"transcription\", k2, \"gene --> gene + RNA\")\n",
      "  m <= Reaction(\"translation\", k3, \"RNA --> RNA + P\")\n",
      "  m <= Reaction(\"dimerization\", k4, \"P + P --> P2\")\n",
      "  m <= Reaction(\"dissociation\", k4r, \"P2 --> P + P\")\n",
      "  m <= Reaction(\"RNA degradation\", k5, \"RNA --> 0\")\n",
      "  m <= Reaction(\"protein degradation\", k6, \"P --> 0\")\n",
      "\n",
      "  return m\n",
      "end\n",
      "\n",
      "\"\"\"\n",
      "```\n",
      "sir(s, i, r, [β=0.1], [γ=0.05])\n",
      "```\n",
      "A Susceptible-Infected-Recovered model. The rate of infection is computed as `β / (s + i + r)`.\n",
      "\n",
      "- `s`: the initial number of susceptible individuals\n",
      "- `i`: the initial number of infected individuals\n",
      "- `r`: the initial number of recovered individals\n",
      "- `β`: the infection rate for the population\n",
      "- `γ`: the recovery rate\n",
      "\"\"\"\n",
      "function sir(\n",
      "  s :: Integer,\n",
      "  i :: Integer,\n",
      "  r :: Integer;\n",
      "  β :: Real = 0.1,\n",
      "  γ :: Real = 0.05)\n",
      "m = Network(\"SIR\")\n",
      "m <= Species(\"S\", s)\n",
      "m <= Species(\"I\", i)\n",
      "m <= Species(\"R\", r)\n",
      "m <= Reaction(\"infection\", β / (s + i + r), \"S + I --> I + I\")\n",
      "m <= Reaction(\"recovery\", γ, \"I --> R\")\n",
      "end\n"
     ]
    }
   ],
   "source": [
    "; cat ../test/test_models.jl"
   ]
  },
  {
   "cell_type": "markdown",
   "metadata": {},
   "source": [
    "Note that we can specify initial conditions and change parameters:"
   ]
  },
  {
   "cell_type": "code",
   "execution_count": 6,
   "metadata": {},
   "outputs": [
    {
     "name": "stdout",
     "output_type": "stream",
     "text": [
      "search: cor\u001b[1mk\u001b[22m\u001b[1me\u001b[22m\u001b[1mn\u001b[22m\u001b[1md\u001b[22m\u001b[1ma\u001b[22m\u001b[1ml\u001b[22m\u001b[1ml\u001b[22m bac\u001b[1mk\u001b[22m\u001b[1me\u001b[22m\u001b[1mn\u001b[22m\u001b[1md\u001b[22m_n\u001b[1ma\u001b[22mme\n",
      "\n"
     ]
    },
    {
     "data": {
      "text/markdown": [
       "```\n",
       "kendall([i=5], [α=2.0], [μ=1.0], [ν=0.5])\n",
       "```\n",
       "\n",
       "Kendall's birth-death-immigration process.\n",
       "\n",
       "  * `i`: initial number of particles\n",
       "  * `α`: birth rate\n",
       "  * `μ`: death rate\n",
       "  * `ν`: immigration rate\n"
      ],
      "text/plain": [
       "```\n",
       "kendall([i=5], [α=2.0], [μ=1.0], [ν=0.5])\n",
       "```\n",
       "\n",
       "Kendall's birth-death-immigration process.\n",
       "\n",
       "  * `i`: initial number of particles\n",
       "  * `α`: birth rate\n",
       "  * `μ`: death rate\n",
       "  * `ν`: immigration rate\n"
      ]
     },
     "execution_count": 6,
     "metadata": {},
     "output_type": "execute_result"
    }
   ],
   "source": [
    "?kendall"
   ]
  },
  {
   "cell_type": "markdown",
   "metadata": {},
   "source": [
    "We'll specify the default values explicitly, but note that we could have just used `kendall()`."
   ]
  },
  {
   "cell_type": "code",
   "execution_count": 7,
   "metadata": {},
   "outputs": [
    {
     "data": {
      "text/plain": [
       "[ Model: Kendall's Process ]\n",
       " no. species:    1\n",
       " no. reactions:  3"
      ]
     },
     "execution_count": 7,
     "metadata": {},
     "output_type": "execute_result"
    }
   ],
   "source": [
    "X0 = 5\n",
    "α  = 2.0\n",
    "μ  = 1.0\n",
    "ν  = 0.5\n",
    "\n",
    "model = kendall(X0, α, μ, ν)"
   ]
  },
  {
   "cell_type": "code",
   "execution_count": 8,
   "metadata": {},
   "outputs": [
    {
     "data": {
      "text/plain": [
       "Dict{Symbol,BioSimulator.Species} with 1 entry:\n",
       "  :X => 5…"
      ]
     },
     "execution_count": 8,
     "metadata": {},
     "output_type": "execute_result"
    }
   ],
   "source": [
    "model.species_list"
   ]
  },
  {
   "cell_type": "code",
   "execution_count": 9,
   "metadata": {},
   "outputs": [
    {
     "data": {
      "text/plain": [
       "Dict{Symbol,BioSimulator.Reaction} with 3 entries:\n",
       "  :immigration => ∅ --> X\n",
       "  :birth       => X --> 2 X\n",
       "  :death       => X --> ∅"
      ]
     },
     "execution_count": 9,
     "metadata": {},
     "output_type": "execute_result"
    }
   ],
   "source": [
    "model.reaction_list"
   ]
  },
  {
   "cell_type": "markdown",
   "metadata": {},
   "source": [
    "### Petri Nets\n",
    "\n",
    "One can visualize a model as a *Petri Net* using `visualize`. Each `Species` and `Reaction` is rendered as a blue and red box, respectively. A `Species` is a *reactant* in a `Reaction` if there is an arrow from its box to a reaction; similarly, it is a *product* of a reaction if the direction is reversed. Numbers adjacent to arrows represent the stoichiometric coefficient in the reaction. If no number is present, it is assumed to be $1$."
   ]
  },
  {
   "cell_type": "code",
   "execution_count": 10,
   "metadata": {},
   "outputs": [
    {
     "data": {
      "image/svg+xml": [
       "<?xml version=\"1.0\" encoding=\"UTF-8\"?>\n",
       "<svg xmlns=\"http://www.w3.org/2000/svg\" xmlns:xlink=\"http://www.w3.org/1999/xlink\" width=\"82.473pt\" height=\"71.543pt\" viewBox=\"0 0 82.473 71.543\" version=\"1.1\">\n",
       "<defs>\n",
       "<g>\n",
       "<symbol overflow=\"visible\" id=\"glyph-1500584341252029-0-0\">\n",
       "<path style=\"stroke:none;\" d=\"\"/>\n",
       "</symbol>\n",
       "<symbol overflow=\"visible\" id=\"glyph-1500584341252029-0-1\">\n",
       "<path style=\"stroke:none;\" d=\"M 4.46875 -1.734375 L 4.234375 -1.734375 C 4.171875 -1.4375 4.109375 -1 4 -0.84375 C 3.9375 -0.765625 3.28125 -0.765625 3.0625 -0.765625 L 1.265625 -0.765625 L 2.328125 -1.796875 C 3.875 -3.171875 4.46875 -3.703125 4.46875 -4.703125 C 4.46875 -5.84375 3.578125 -6.640625 2.359375 -6.640625 C 1.234375 -6.640625 0.5 -5.71875 0.5 -4.828125 C 0.5 -4.28125 1 -4.28125 1.03125 -4.28125 C 1.203125 -4.28125 1.546875 -4.390625 1.546875 -4.8125 C 1.546875 -5.0625 1.359375 -5.328125 1.015625 -5.328125 C 0.9375 -5.328125 0.921875 -5.328125 0.890625 -5.3125 C 1.109375 -5.96875 1.65625 -6.328125 2.234375 -6.328125 C 3.140625 -6.328125 3.5625 -5.515625 3.5625 -4.703125 C 3.5625 -3.90625 3.078125 -3.125 2.515625 -2.5 L 0.609375 -0.375 C 0.5 -0.265625 0.5 -0.234375 0.5 0 L 4.203125 0 Z M 4.46875 -1.734375 \"/>\n",
       "</symbol>\n",
       "<symbol overflow=\"visible\" id=\"glyph-1500584341252029-0-2\">\n",
       "<path style=\"stroke:none;\" d=\"M 7.234375 0 L 7.234375 -0.3125 L 7.046875 -0.3125 C 6.53125 -0.3125 6.3125 -0.359375 6.109375 -0.671875 L 4 -3.84375 L 5.375 -5.859375 C 5.59375 -6.171875 5.9375 -6.484375 6.8125 -6.5 L 6.8125 -6.8125 L 5.71875 -6.78125 C 5.3125 -6.78125 4.828125 -6.78125 4.4375 -6.8125 L 4.4375 -6.5 C 4.828125 -6.484375 5.046875 -6.265625 5.046875 -6.046875 C 5.046875 -5.9375 5.03125 -5.921875 4.96875 -5.8125 L 3.828125 -4.125 L 2.546875 -6.046875 C 2.515625 -6.078125 2.46875 -6.15625 2.46875 -6.203125 C 2.46875 -6.3125 2.6875 -6.484375 3.125 -6.5 L 3.125 -6.8125 C 2.765625 -6.78125 2.046875 -6.78125 1.671875 -6.78125 L 0.375 -6.8125 L 0.375 -6.5 L 0.5625 -6.5 C 1.109375 -6.5 1.296875 -6.4375 1.484375 -6.15625 L 3.3125 -3.375 L 1.6875 -0.96875 C 1.546875 -0.765625 1.25 -0.3125 0.234375 -0.3125 L 0.234375 0 L 1.34375 -0.03125 C 1.71875 -0.03125 2.265625 -0.03125 2.625 0 L 2.625 -0.3125 C 2.15625 -0.3125 2 -0.59375 2 -0.765625 C 2 -0.859375 2.03125 -0.890625 2.09375 -1 L 3.515625 -3.09375 L 5.078125 -0.71875 C 5.109375 -0.671875 5.140625 -0.640625 5.140625 -0.609375 C 5.140625 -0.484375 4.921875 -0.3125 4.484375 -0.3125 L 4.484375 0 C 4.828125 -0.03125 5.5625 -0.03125 5.9375 -0.03125 Z M 7.234375 0 \"/>\n",
       "</symbol>\n",
       "<symbol overflow=\"visible\" id=\"glyph-1500584341252029-0-3\">\n",
       "<path style=\"stroke:none;\" d=\"M 2.46875 0 L 2.46875 -0.3125 C 1.796875 -0.3125 1.765625 -0.359375 1.765625 -0.75 L 1.765625 -4.40625 L 0.375 -4.296875 L 0.375 -3.984375 C 1.015625 -3.984375 1.109375 -3.921875 1.109375 -3.4375 L 1.109375 -0.75 C 1.109375 -0.3125 1 -0.3125 0.328125 -0.3125 L 0.328125 0 L 1.421875 -0.03125 C 1.78125 -0.03125 2.125 -0.015625 2.46875 0 Z M 1.90625 -6.015625 C 1.90625 -6.296875 1.6875 -6.546875 1.390625 -6.546875 C 1.046875 -6.546875 0.84375 -6.265625 0.84375 -6.015625 C 0.84375 -5.75 1.078125 -5.5 1.375 -5.5 C 1.71875 -5.5 1.90625 -5.765625 1.90625 -6.015625 Z M 1.90625 -6.015625 \"/>\n",
       "</symbol>\n",
       "<symbol overflow=\"visible\" id=\"glyph-1500584341252029-0-4\">\n",
       "<path style=\"stroke:none;\" d=\"M 8.109375 0 L 8.109375 -0.3125 C 7.59375 -0.3125 7.34375 -0.3125 7.328125 -0.609375 L 7.328125 -2.515625 C 7.328125 -3.375 7.328125 -3.671875 7.015625 -4.03125 C 6.875 -4.203125 6.546875 -4.40625 5.96875 -4.40625 C 5.140625 -4.40625 4.6875 -3.8125 4.53125 -3.421875 C 4.390625 -4.296875 3.65625 -4.40625 3.203125 -4.40625 C 2.46875 -4.40625 2 -3.984375 1.71875 -3.359375 L 1.71875 -4.40625 L 0.3125 -4.296875 L 0.3125 -3.984375 C 1.015625 -3.984375 1.09375 -3.921875 1.09375 -3.421875 L 1.09375 -0.75 C 1.09375 -0.3125 0.984375 -0.3125 0.3125 -0.3125 L 0.3125 0 L 1.453125 -0.03125 L 2.5625 0 L 2.5625 -0.3125 C 1.890625 -0.3125 1.78125 -0.3125 1.78125 -0.75 L 1.78125 -2.59375 C 1.78125 -3.625 2.5 -4.1875 3.125 -4.1875 C 3.765625 -4.1875 3.875 -3.65625 3.875 -3.078125 L 3.875 -0.75 C 3.875 -0.3125 3.765625 -0.3125 3.09375 -0.3125 L 3.09375 0 L 4.21875 -0.03125 L 5.328125 0 L 5.328125 -0.3125 C 4.671875 -0.3125 4.5625 -0.3125 4.5625 -0.75 L 4.5625 -2.59375 C 4.5625 -3.625 5.265625 -4.1875 5.90625 -4.1875 C 6.53125 -4.1875 6.640625 -3.65625 6.640625 -3.078125 L 6.640625 -0.75 C 6.640625 -0.3125 6.53125 -0.3125 5.859375 -0.3125 L 5.859375 0 L 6.984375 -0.03125 Z M 8.109375 0 \"/>\n",
       "</symbol>\n",
       "<symbol overflow=\"visible\" id=\"glyph-1500584341252029-0-5\">\n",
       "<path style=\"stroke:none;\" d=\"M 4.828125 -4.03125 C 4.828125 -4.203125 4.71875 -4.515625 4.328125 -4.515625 C 4.125 -4.515625 3.6875 -4.453125 3.265625 -4.046875 C 2.84375 -4.375 2.4375 -4.40625 2.21875 -4.40625 C 1.28125 -4.40625 0.59375 -3.71875 0.59375 -2.953125 C 0.59375 -2.515625 0.8125 -2.140625 1.0625 -1.921875 C 0.9375 -1.78125 0.75 -1.453125 0.75 -1.09375 C 0.75 -0.78125 0.890625 -0.40625 1.203125 -0.203125 C 0.59375 -0.046875 0.28125 0.390625 0.28125 0.78125 C 0.28125 1.5 1.265625 2.046875 2.484375 2.046875 C 3.65625 2.046875 4.6875 1.546875 4.6875 0.765625 C 4.6875 0.421875 4.5625 -0.09375 4.046875 -0.375 C 3.515625 -0.640625 2.9375 -0.640625 2.328125 -0.640625 C 2.078125 -0.640625 1.65625 -0.640625 1.578125 -0.65625 C 1.265625 -0.703125 1.0625 -1 1.0625 -1.328125 C 1.0625 -1.359375 1.0625 -1.59375 1.21875 -1.796875 C 1.609375 -1.515625 2.03125 -1.484375 2.21875 -1.484375 C 3.140625 -1.484375 3.828125 -2.171875 3.828125 -2.9375 C 3.828125 -3.3125 3.671875 -3.671875 3.421875 -3.90625 C 3.78125 -4.25 4.140625 -4.296875 4.3125 -4.296875 C 4.3125 -4.296875 4.390625 -4.296875 4.421875 -4.28125 C 4.3125 -4.25 4.25 -4.140625 4.25 -4.015625 C 4.25 -3.84375 4.390625 -3.734375 4.546875 -3.734375 C 4.640625 -3.734375 4.828125 -3.796875 4.828125 -4.03125 Z M 3.078125 -2.953125 C 3.078125 -2.6875 3.078125 -2.359375 2.921875 -2.109375 C 2.84375 -2 2.609375 -1.71875 2.21875 -1.71875 C 1.34375 -1.71875 1.34375 -2.71875 1.34375 -2.9375 C 1.34375 -3.203125 1.359375 -3.53125 1.5 -3.78125 C 1.578125 -3.890625 1.8125 -4.171875 2.21875 -4.171875 C 3.078125 -4.171875 3.078125 -3.1875 3.078125 -2.953125 Z M 4.171875 0.78125 C 4.171875 1.328125 3.46875 1.828125 2.5 1.828125 C 1.484375 1.828125 0.796875 1.3125 0.796875 0.78125 C 0.796875 0.328125 1.171875 -0.046875 1.609375 -0.0625 L 2.203125 -0.0625 C 3.0625 -0.0625 4.171875 -0.0625 4.171875 0.78125 Z M 4.171875 0.78125 \"/>\n",
       "</symbol>\n",
       "<symbol overflow=\"visible\" id=\"glyph-1500584341252029-0-6\">\n",
       "<path style=\"stroke:none;\" d=\"M 3.625 -3.796875 C 3.625 -4.109375 3.3125 -4.40625 2.890625 -4.40625 C 2.15625 -4.40625 1.796875 -3.734375 1.671875 -3.3125 L 1.671875 -4.40625 L 0.28125 -4.296875 L 0.28125 -3.984375 C 0.984375 -3.984375 1.0625 -3.921875 1.0625 -3.421875 L 1.0625 -0.75 C 1.0625 -0.3125 0.953125 -0.3125 0.28125 -0.3125 L 0.28125 0 L 1.421875 -0.03125 C 1.8125 -0.03125 2.28125 -0.03125 2.6875 0 L 2.6875 -0.3125 L 2.46875 -0.3125 C 1.734375 -0.3125 1.71875 -0.421875 1.71875 -0.78125 L 1.71875 -2.3125 C 1.71875 -3.296875 2.140625 -4.1875 2.890625 -4.1875 C 2.953125 -4.1875 2.984375 -4.1875 3 -4.171875 C 2.96875 -4.171875 2.765625 -4.046875 2.765625 -3.78125 C 2.765625 -3.515625 2.984375 -3.359375 3.203125 -3.359375 C 3.375 -3.359375 3.625 -3.484375 3.625 -3.796875 Z M 3.625 -3.796875 \"/>\n",
       "</symbol>\n",
       "<symbol overflow=\"visible\" id=\"glyph-1500584341252029-0-7\">\n",
       "<path style=\"stroke:none;\" d=\"M 4.8125 -0.890625 L 4.8125 -1.453125 L 4.5625 -1.453125 L 4.5625 -0.890625 C 4.5625 -0.3125 4.3125 -0.25 4.203125 -0.25 C 3.875 -0.25 3.84375 -0.703125 3.84375 -0.75 L 3.84375 -2.734375 C 3.84375 -3.15625 3.84375 -3.546875 3.484375 -3.921875 C 3.09375 -4.3125 2.59375 -4.46875 2.109375 -4.46875 C 1.296875 -4.46875 0.609375 -4 0.609375 -3.34375 C 0.609375 -3.046875 0.8125 -2.875 1.0625 -2.875 C 1.34375 -2.875 1.53125 -3.078125 1.53125 -3.328125 C 1.53125 -3.453125 1.46875 -3.78125 1.015625 -3.78125 C 1.28125 -4.140625 1.78125 -4.25 2.09375 -4.25 C 2.578125 -4.25 3.15625 -3.859375 3.15625 -2.96875 L 3.15625 -2.609375 C 2.640625 -2.578125 1.9375 -2.546875 1.3125 -2.25 C 0.5625 -1.90625 0.3125 -1.390625 0.3125 -0.953125 C 0.3125 -0.140625 1.28125 0.109375 1.90625 0.109375 C 2.578125 0.109375 3.03125 -0.296875 3.21875 -0.75 C 3.265625 -0.359375 3.53125 0.0625 4 0.0625 C 4.203125 0.0625 4.8125 -0.078125 4.8125 -0.890625 Z M 3.15625 -1.390625 C 3.15625 -0.453125 2.4375 -0.109375 1.984375 -0.109375 C 1.5 -0.109375 1.09375 -0.453125 1.09375 -0.953125 C 1.09375 -1.5 1.5 -2.328125 3.15625 -2.390625 Z M 3.15625 -1.390625 \"/>\n",
       "</symbol>\n",
       "<symbol overflow=\"visible\" id=\"glyph-1500584341252029-0-8\">\n",
       "<path style=\"stroke:none;\" d=\"M 3.3125 -1.234375 L 3.3125 -1.796875 L 3.0625 -1.796875 L 3.0625 -1.25 C 3.0625 -0.515625 2.765625 -0.140625 2.390625 -0.140625 C 1.71875 -0.140625 1.71875 -1.046875 1.71875 -1.21875 L 1.71875 -3.984375 L 3.15625 -3.984375 L 3.15625 -4.296875 L 1.71875 -4.296875 L 1.71875 -6.125 L 1.46875 -6.125 C 1.46875 -5.3125 1.171875 -4.25 0.1875 -4.203125 L 0.1875 -3.984375 L 1.03125 -3.984375 L 1.03125 -1.234375 C 1.03125 -0.015625 1.96875 0.109375 2.328125 0.109375 C 3.03125 0.109375 3.3125 -0.59375 3.3125 -1.234375 Z M 3.3125 -1.234375 \"/>\n",
       "</symbol>\n",
       "<symbol overflow=\"visible\" id=\"glyph-1500584341252029-0-9\">\n",
       "<path style=\"stroke:none;\" d=\"M 4.6875 -2.140625 C 4.6875 -3.40625 3.703125 -4.46875 2.5 -4.46875 C 1.25 -4.46875 0.28125 -3.375 0.28125 -2.140625 C 0.28125 -0.84375 1.3125 0.109375 2.484375 0.109375 C 3.6875 0.109375 4.6875 -0.875 4.6875 -2.140625 Z M 3.875 -2.21875 C 3.875 -1.859375 3.875 -1.3125 3.65625 -0.875 C 3.421875 -0.421875 2.984375 -0.140625 2.5 -0.140625 C 2.0625 -0.140625 1.625 -0.34375 1.359375 -0.8125 C 1.109375 -1.25 1.109375 -1.859375 1.109375 -2.21875 C 1.109375 -2.609375 1.109375 -3.140625 1.34375 -3.578125 C 1.609375 -4.03125 2.078125 -4.25 2.484375 -4.25 C 2.921875 -4.25 3.34375 -4.03125 3.609375 -3.59375 C 3.875 -3.171875 3.875 -2.59375 3.875 -2.21875 Z M 3.875 -2.21875 \"/>\n",
       "</symbol>\n",
       "<symbol overflow=\"visible\" id=\"glyph-1500584341252029-0-10\">\n",
       "<path style=\"stroke:none;\" d=\"M 5.328125 0 L 5.328125 -0.3125 C 4.8125 -0.3125 4.5625 -0.3125 4.5625 -0.609375 L 4.5625 -2.515625 C 4.5625 -3.375 4.5625 -3.671875 4.25 -4.03125 C 4.109375 -4.203125 3.78125 -4.40625 3.203125 -4.40625 C 2.46875 -4.40625 2 -3.984375 1.71875 -3.359375 L 1.71875 -4.40625 L 0.3125 -4.296875 L 0.3125 -3.984375 C 1.015625 -3.984375 1.09375 -3.921875 1.09375 -3.421875 L 1.09375 -0.75 C 1.09375 -0.3125 0.984375 -0.3125 0.3125 -0.3125 L 0.3125 0 L 1.453125 -0.03125 L 2.5625 0 L 2.5625 -0.3125 C 1.890625 -0.3125 1.78125 -0.3125 1.78125 -0.75 L 1.78125 -2.59375 C 1.78125 -3.625 2.5 -4.1875 3.125 -4.1875 C 3.765625 -4.1875 3.875 -3.65625 3.875 -3.078125 L 3.875 -0.75 C 3.875 -0.3125 3.765625 -0.3125 3.09375 -0.3125 L 3.09375 0 L 4.21875 -0.03125 Z M 5.328125 0 \"/>\n",
       "</symbol>\n",
       "<symbol overflow=\"visible\" id=\"glyph-1500584341252029-0-11\">\n",
       "<path style=\"stroke:none;\" d=\"M 5.1875 -2.15625 C 5.1875 -3.421875 4.21875 -4.40625 3.078125 -4.40625 C 2.296875 -4.40625 1.875 -3.9375 1.71875 -3.765625 L 1.71875 -6.921875 L 0.28125 -6.8125 L 0.28125 -6.5 C 0.984375 -6.5 1.0625 -6.4375 1.0625 -5.9375 L 1.0625 0 L 1.3125 0 L 1.671875 -0.625 C 1.8125 -0.390625 2.234375 0.109375 2.96875 0.109375 C 4.15625 0.109375 5.1875 -0.875 5.1875 -2.15625 Z M 4.359375 -2.15625 C 4.359375 -1.796875 4.34375 -1.203125 4.0625 -0.75 C 3.84375 -0.4375 3.46875 -0.109375 2.9375 -0.109375 C 2.484375 -0.109375 2.125 -0.34375 1.890625 -0.71875 C 1.75 -0.921875 1.75 -0.953125 1.75 -1.140625 L 1.75 -3.1875 C 1.75 -3.375 1.75 -3.390625 1.859375 -3.546875 C 2.25 -4.109375 2.796875 -4.1875 3.03125 -4.1875 C 3.484375 -4.1875 3.84375 -3.921875 4.078125 -3.546875 C 4.34375 -3.140625 4.359375 -2.578125 4.359375 -2.15625 Z M 4.359375 -2.15625 \"/>\n",
       "</symbol>\n",
       "<symbol overflow=\"visible\" id=\"glyph-1500584341252029-0-12\">\n",
       "<path style=\"stroke:none;\" d=\"M 5.328125 0 L 5.328125 -0.3125 C 4.8125 -0.3125 4.5625 -0.3125 4.5625 -0.609375 L 4.5625 -2.515625 C 4.5625 -3.375 4.5625 -3.671875 4.25 -4.03125 C 4.109375 -4.203125 3.78125 -4.40625 3.203125 -4.40625 C 2.359375 -4.40625 1.921875 -3.8125 1.765625 -3.453125 L 1.75 -3.453125 L 1.75 -6.921875 L 0.3125 -6.8125 L 0.3125 -6.5 C 1.015625 -6.5 1.09375 -6.4375 1.09375 -5.9375 L 1.09375 -0.75 C 1.09375 -0.3125 0.984375 -0.3125 0.3125 -0.3125 L 0.3125 0 L 1.453125 -0.03125 L 2.5625 0 L 2.5625 -0.3125 C 1.890625 -0.3125 1.78125 -0.3125 1.78125 -0.75 L 1.78125 -2.59375 C 1.78125 -3.625 2.5 -4.1875 3.125 -4.1875 C 3.765625 -4.1875 3.875 -3.65625 3.875 -3.078125 L 3.875 -0.75 C 3.875 -0.3125 3.765625 -0.3125 3.09375 -0.3125 L 3.09375 0 L 4.21875 -0.03125 Z M 5.328125 0 \"/>\n",
       "</symbol>\n",
       "<symbol overflow=\"visible\" id=\"glyph-1500584341252029-0-13\">\n",
       "<path style=\"stroke:none;\" d=\"M 5.25 0 L 5.25 -0.3125 C 4.5625 -0.3125 4.46875 -0.375 4.46875 -0.875 L 4.46875 -6.921875 L 3.046875 -6.8125 L 3.046875 -6.5 C 3.734375 -6.5 3.8125 -6.4375 3.8125 -5.9375 L 3.8125 -3.78125 C 3.53125 -4.140625 3.09375 -4.40625 2.5625 -4.40625 C 1.390625 -4.40625 0.34375 -3.421875 0.34375 -2.140625 C 0.34375 -0.875 1.3125 0.109375 2.453125 0.109375 C 3.09375 0.109375 3.53125 -0.234375 3.78125 -0.546875 L 3.78125 0.109375 Z M 3.78125 -1.171875 C 3.78125 -1 3.78125 -0.984375 3.671875 -0.8125 C 3.375 -0.328125 2.9375 -0.109375 2.5 -0.109375 C 2.046875 -0.109375 1.6875 -0.375 1.453125 -0.75 C 1.203125 -1.15625 1.171875 -1.71875 1.171875 -2.140625 C 1.171875 -2.5 1.1875 -3.09375 1.46875 -3.546875 C 1.6875 -3.859375 2.0625 -4.1875 2.609375 -4.1875 C 2.953125 -4.1875 3.375 -4.03125 3.671875 -3.59375 C 3.78125 -3.421875 3.78125 -3.40625 3.78125 -3.21875 Z M 3.78125 -1.171875 \"/>\n",
       "</symbol>\n",
       "<symbol overflow=\"visible\" id=\"glyph-1500584341252029-0-14\">\n",
       "<path style=\"stroke:none;\" d=\"M 4.140625 -1.1875 C 4.140625 -1.28125 4.0625 -1.3125 4 -1.3125 C 3.921875 -1.3125 3.890625 -1.25 3.875 -1.171875 C 3.53125 -0.140625 2.625 -0.140625 2.53125 -0.140625 C 2.03125 -0.140625 1.640625 -0.4375 1.40625 -0.8125 C 1.109375 -1.28125 1.109375 -1.9375 1.109375 -2.296875 L 3.890625 -2.296875 C 4.109375 -2.296875 4.140625 -2.296875 4.140625 -2.515625 C 4.140625 -3.5 3.59375 -4.46875 2.359375 -4.46875 C 1.203125 -4.46875 0.28125 -3.4375 0.28125 -2.1875 C 0.28125 -0.859375 1.328125 0.109375 2.46875 0.109375 C 3.6875 0.109375 4.140625 -1 4.140625 -1.1875 Z M 3.484375 -2.515625 L 1.109375 -2.515625 C 1.171875 -4 2.015625 -4.25 2.359375 -4.25 C 3.375 -4.25 3.484375 -2.90625 3.484375 -2.515625 Z M 3.484375 -2.515625 \"/>\n",
       "</symbol>\n",
       "</g>\n",
       "<clipPath id=\"clip-1500584341252029-1\">\n",
       "  <path d=\"M 15 57 L 45 57 L 45 71.542969 L 15 71.542969 Z M 15 57 \"/>\n",
       "</clipPath>\n",
       "<clipPath id=\"clip-1500584341252029-2\">\n",
       "  <path d=\"M 10 52 L 50 52 L 50 71.542969 L 10 71.542969 Z M 10 52 \"/>\n",
       "</clipPath>\n",
       "<clipPath id=\"clip-1500584341252029-3\">\n",
       "  <path d=\"M 51 57 L 82.472656 57 L 82.472656 71.542969 L 51 71.542969 Z M 51 57 \"/>\n",
       "</clipPath>\n",
       "<clipPath id=\"clip-1500584341252029-4\">\n",
       "  <path d=\"M 45 52 L 82.472656 52 L 82.472656 71.542969 L 45 71.542969 Z M 45 52 \"/>\n",
       "</clipPath>\n",
       "</defs>\n",
       "<g id=\"surface1\">\n",
       "<path style=\"fill:none;stroke-width:0.3985;stroke-linecap:butt;stroke-linejoin:miter;stroke:rgb(0%,0%,0%);stroke-opacity:1;stroke-miterlimit:10;\" d=\"M 6.922344 -6.920937 C 10.918437 -10.862344 10.969219 -17.315469 8.434062 -19.893594 \" transform=\"matrix(1,0,0,-1,30.105,36.165)\"/>\n",
       "<path style=\" stroke:none;fill-rule:nonzero;fill:rgb(0%,0%,0%);fill-opacity:1;\" d=\"M 37.136719 57.480469 L 40.515625 56.324219 L 38.539062 56.058594 L 38.238281 54.082031 \"/>\n",
       "<path style=\"fill:none;stroke-width:0.3985;stroke-linecap:butt;stroke-linejoin:miter;stroke:rgb(0%,0%,0%);stroke-opacity:1;stroke-miterlimit:10;\" d=\"M 7.254375 0.926719 C 21.297344 2.661094 34.035625 -7.2725 35.523906 -19.335 \" transform=\"matrix(1,0,0,-1,30.105,36.165)\"/>\n",
       "<path style=\" stroke:none;fill-rule:nonzero;fill:rgb(0%,0%,0%);fill-opacity:1;\" d=\"M 65.875 57.480469 L 67.066406 54.121094 L 65.628906 55.5 L 63.902344 54.511719 \"/>\n",
       "<path style=\"fill:none;stroke-width:0.3985;stroke-linecap:butt;stroke-linejoin:miter;stroke:rgb(0%,0%,0%);stroke-opacity:1;stroke-miterlimit:10;\" d=\"M 7.816875 20.528281 C 11.328594 16.520469 10.930156 10.434531 8.42625 8.239219 \" transform=\"matrix(1,0,0,-1,30.105,36.165)\"/>\n",
       "<path style=\" stroke:none;fill-rule:nonzero;fill:rgb(0%,0%,0%);fill-opacity:1;\" d=\"M 37.027344 29.242188 L 40.484375 28.335938 L 38.53125 27.925781 L 38.378906 25.933594 \"/>\n",
       "<path style=\"fill:none;stroke-width:0.3985;stroke-linecap:butt;stroke-linejoin:miter;stroke:rgb(0%,0%,0%);stroke-opacity:1;stroke-miterlimit:10;\" d=\"M -7.030781 -21.315469 C -10.968281 -17.315469 -10.921406 -10.862344 -8.343281 -8.323281 \" transform=\"matrix(1,0,0,-1,30.105,36.165)\"/>\n",
       "<path style=\" stroke:none;fill-rule:nonzero;fill:rgb(0%,0%,0%);fill-opacity:1;\" d=\"M 23.183594 43.085938 L 19.785156 44.191406 L 21.761719 44.488281 L 22.027344 46.46875 \"/>\n",
       "<g style=\"fill:rgb(0%,0%,0%);fill-opacity:1;\">\n",
       "  <use xlink:href=\"#glyph-1500584341252029-0-1\" x=\"11.651\" y=\"53.578\"/>\n",
       "</g>\n",
       "<path style=\"fill-rule:nonzero;fill:rgb(89.99939%,89.99939%,100%);fill-opacity:1;stroke-width:0.3985;stroke-linecap:butt;stroke-linejoin:miter;stroke:rgb(0%,0%,0%);stroke-opacity:1;stroke-miterlimit:10;\" d=\"M 3.070781 6.723594 L -3.069844 6.723594 C -5.272969 6.723594 -7.058125 4.938438 -7.058125 2.739219 L -7.058125 -2.737344 C -7.058125 -4.940469 -5.272969 -6.721719 -3.069844 -6.721719 L 3.070781 -6.721719 C 5.273906 -6.721719 7.055156 -4.940469 7.055156 -2.737344 L 7.055156 2.739219 C 7.055156 4.938438 5.273906 6.723594 3.070781 6.723594 Z M 3.070781 6.723594 \" transform=\"matrix(1,0,0,-1,30.105,36.165)\"/>\n",
       "<g style=\"fill:rgb(0%,0%,0%);fill-opacity:1;\">\n",
       "  <use xlink:href=\"#glyph-1500584341252029-0-2\" x=\"26.369\" y=\"39.567\"/>\n",
       "</g>\n",
       "<path style=\"fill-rule:nonzero;fill:rgb(100%,89.99939%,89.99939%);fill-opacity:1;stroke-width:0.3985;stroke-linecap:butt;stroke-linejoin:miter;stroke:rgb(0%,0%,0%);stroke-opacity:1;stroke-miterlimit:10;\" d=\"M 25.922344 7.618781 L -25.921406 7.618781 C -28.120625 7.618781 -29.905781 5.833625 -29.905781 3.634406 L -29.905781 -3.635125 C -29.905781 -5.834344 -28.120625 -7.6195 -25.921406 -7.6195 L 25.922344 -7.6195 C 28.121562 -7.6195 29.906719 -5.834344 29.906719 -3.635125 L 29.906719 3.634406 C 29.906719 5.833625 28.121562 7.618781 25.922344 7.618781 Z M 25.922344 7.618781 \" transform=\"matrix(1,0,0,-1,30.105,7.818)\"/>\n",
       "<g style=\"fill:rgb(0%,0%,0%);fill-opacity:1;\">\n",
       "  <use xlink:href=\"#glyph-1500584341252029-0-3\" x=\"3.52\" y=\"10.065\"/>\n",
       "  <use xlink:href=\"#glyph-1500584341252029-0-4\" x=\"6.289614\" y=\"10.065\"/>\n",
       "  <use xlink:href=\"#glyph-1500584341252029-0-4\" x=\"14.588493\" y=\"10.065\"/>\n",
       "  <use xlink:href=\"#glyph-1500584341252029-0-3\" x=\"22.887372\" y=\"10.065\"/>\n",
       "  <use xlink:href=\"#glyph-1500584341252029-0-5\" x=\"25.656986\" y=\"10.065\"/>\n",
       "  <use xlink:href=\"#glyph-1500584341252029-0-6\" x=\"30.638306\" y=\"10.065\"/>\n",
       "  <use xlink:href=\"#glyph-1500584341252029-0-7\" x=\"34.543661\" y=\"10.065\"/>\n",
       "  <use xlink:href=\"#glyph-1500584341252029-0-8\" x=\"39.524981\" y=\"10.065\"/>\n",
       "  <use xlink:href=\"#glyph-1500584341252029-0-3\" x=\"43.400448\" y=\"10.065\"/>\n",
       "  <use xlink:href=\"#glyph-1500584341252029-0-9\" x=\"46.170062\" y=\"10.065\"/>\n",
       "  <use xlink:href=\"#glyph-1500584341252029-0-10\" x=\"51.151382\" y=\"10.065\"/>\n",
       "</g>\n",
       "<g clip-path=\"url(#clip-1500584341252029-1)\" clip-rule=\"nonzero\">\n",
       "<path style=\" stroke:none;fill-rule:nonzero;fill:rgb(100%,89.99939%,89.99939%);fill-opacity:1;\" d=\"M 40.253906 57.679688 L 19.953125 57.679688 C 17.753906 57.679688 15.96875 59.460938 15.96875 61.664062 L 15.96875 67.359375 C 15.96875 69.558594 17.753906 71.34375 19.953125 71.34375 L 40.253906 71.34375 C 42.457031 71.34375 44.238281 69.558594 44.238281 67.359375 L 44.238281 61.664062 C 44.238281 59.460938 42.457031 57.679688 40.253906 57.679688 Z M 40.253906 57.679688 \"/>\n",
       "</g>\n",
       "<g clip-path=\"url(#clip-1500584341252029-2)\" clip-rule=\"nonzero\">\n",
       "<path style=\"fill:none;stroke-width:0.3985;stroke-linecap:butt;stroke-linejoin:miter;stroke:rgb(0%,0%,0%);stroke-opacity:1;stroke-miterlimit:10;\" d=\"M 10.148906 6.831313 L -10.151875 6.831313 C -12.351094 6.831313 -14.13625 5.050063 -14.13625 2.846938 L -14.13625 -2.848375 C -14.13625 -5.047594 -12.351094 -6.83275 -10.151875 -6.83275 L 10.148906 -6.83275 C 12.352031 -6.83275 14.133281 -5.047594 14.133281 -2.848375 L 14.133281 2.846938 C 14.133281 5.050063 12.352031 6.831313 10.148906 6.831313 Z M 10.148906 6.831313 \" transform=\"matrix(1,0,0,-1,30.105,64.511)\"/>\n",
       "</g>\n",
       "<g style=\"fill:rgb(0%,0%,0%);fill-opacity:1;\">\n",
       "  <use xlink:href=\"#glyph-1500584341252029-0-11\" x=\"19.291\" y=\"67.914\"/>\n",
       "  <use xlink:href=\"#glyph-1500584341252029-0-3\" x=\"24.830228\" y=\"67.914\"/>\n",
       "  <use xlink:href=\"#glyph-1500584341252029-0-6\" x=\"27.599842\" y=\"67.914\"/>\n",
       "  <use xlink:href=\"#glyph-1500584341252029-0-8\" x=\"31.505197\" y=\"67.914\"/>\n",
       "  <use xlink:href=\"#glyph-1500584341252029-0-12\" x=\"35.380664\" y=\"67.914\"/>\n",
       "</g>\n",
       "<g clip-path=\"url(#clip-1500584341252029-3)\" clip-rule=\"nonzero\">\n",
       "<path style=\" stroke:none;fill-rule:nonzero;fill:rgb(100%,89.99939%,89.99939%);fill-opacity:1;\" d=\"M 78.289062 57.679688 L 55.257812 57.679688 C 53.058594 57.679688 51.273438 59.460938 51.273438 61.664062 L 51.273438 67.359375 C 51.273438 69.558594 53.058594 71.34375 55.257812 71.34375 L 78.289062 71.34375 C 80.488281 71.34375 82.273438 69.558594 82.273438 67.359375 L 82.273438 61.664062 C 82.273438 59.460938 80.488281 57.679688 78.289062 57.679688 Z M 78.289062 57.679688 \"/>\n",
       "</g>\n",
       "<g clip-path=\"url(#clip-1500584341252029-4)\" clip-rule=\"nonzero\">\n",
       "<path style=\"fill:none;stroke-width:0.3985;stroke-linecap:butt;stroke-linejoin:miter;stroke:rgb(0%,0%,0%);stroke-opacity:1;stroke-miterlimit:10;\" d=\"M 11.516062 6.831313 L -11.515188 6.831313 C -13.714406 6.831313 -15.499563 5.050063 -15.499563 2.846938 L -15.499563 -2.848375 C -15.499563 -5.047594 -13.714406 -6.83275 -11.515188 -6.83275 L 11.516062 -6.83275 C 13.715281 -6.83275 15.500437 -5.047594 15.500437 -2.848375 L 15.500437 2.846938 C 15.500437 5.050063 13.715281 6.831313 11.516062 6.831313 Z M 11.516062 6.831313 \" transform=\"matrix(1,0,0,-1,66.773,64.511)\"/>\n",
       "</g>\n",
       "<g style=\"fill:rgb(0%,0%,0%);fill-opacity:1;\">\n",
       "  <use xlink:href=\"#glyph-1500584341252029-0-13\" x=\"54.594\" y=\"67.914\"/>\n",
       "  <use xlink:href=\"#glyph-1500584341252029-0-14\" x=\"60.133228\" y=\"67.914\"/>\n",
       "  <use xlink:href=\"#glyph-1500584341252029-0-7\" x=\"64.55664\" y=\"67.914\"/>\n",
       "  <use xlink:href=\"#glyph-1500584341252029-0-8\" x=\"69.53796\" y=\"67.914\"/>\n",
       "  <use xlink:href=\"#glyph-1500584341252029-0-12\" x=\"73.413427\" y=\"67.914\"/>\n",
       "</g>\n",
       "</g>\n",
       "</svg>\n",
       "\n"
      ],
      "text/plain": [
       "TikzPictures.TikzPicture(\"\\\\graph [layered layout, ] {\\n1/\\\"X\\\" [,draw, rounded corners, fill=blue!10],\\n2/\\\"immigration\\\" [,draw, rounded corners, fill=red!10],\\n3/\\\"birth\\\" [,draw, rounded corners, fill=red!10],\\n4/\\\"death\\\" [,draw, rounded corners, fill=red!10],\\n;\\n1 -> [-stealth, relative=true, out=45,] 3;\\n1 -> [-stealth, relative=true, out=45,] 4;\\n2 -> [-stealth, relative=true, out=45,] 1;\\n3 -> [-stealth, relative=true, out=45,edge label={2},] 1;\\n};\\n\",\"\",\"\\\\usepackage{fontspec}\\n\\\\setmainfont{Latin Modern Math}\\n\\\\usetikzlibrary{graphs}\\n\\\\usetikzlibrary{graphdrawing}\\n\\n\\\\usegdlibrary{layered}\",true,true)"
      ]
     },
     "execution_count": 10,
     "metadata": {},
     "output_type": "execute_result"
    }
   ],
   "source": [
    "visualize(model)"
   ]
  },
  {
   "cell_type": "markdown",
   "metadata": {},
   "source": [
    "### Simulation\n",
    "\n",
    "We'll use the Stochastic Simulation Algorithm/Gillespie's Method. We specify the simulation parameters\n",
    "\n",
    "> `time`: the end simulation time; we'll simulate until $t = 4$.\n",
    "\n",
    "> `epochs`: the number of bins used to discretize the interval $[0, t]$.\n",
    "\n",
    "> `trials`: the number of times to repeat the simulation.\n",
    "\n",
    "The `simulate` method executes the simulation and returns a `SimData` type storing the history for each independent realization."
   ]
  },
  {
   "cell_type": "code",
   "execution_count": 11,
   "metadata": {},
   "outputs": [
    {
     "name": "stdout",
     "output_type": "stream",
     "text": [
      "  3.557802 seconds (4.90 M allocations: 209.378 MB, 3.44% gc time)\n",
      "  0.881776 seconds (351 allocations: 20.844 KB)\n"
     ]
    },
    {
     "data": {
      "text/plain": [
       "SimData{1,41,10000}\n",
       " * species  = (\"X\",)\n",
       " * time     = 4.0\n",
       " * epochs   = 41\n",
       " * trials   = 10000"
      ]
     },
     "execution_count": 11,
     "metadata": {},
     "output_type": "execute_result"
    }
   ],
   "source": [
    "# warm-up\n",
    "@time result = simulate(model, SSA, time = 4.0, epochs = 40, trials = 1)\n",
    "\n",
    "# simulate\n",
    "@time result = simulate(model, SSA, time = 4.0, epochs = 40, trials = 10_000)"
   ]
  },
  {
   "cell_type": "markdown",
   "metadata": {},
   "source": [
    "## Visualizing the Simulation Data"
   ]
  },
  {
   "cell_type": "markdown",
   "metadata": {},
   "source": [
    "Now we compute the analytic solution."
   ]
  },
  {
   "cell_type": "code",
   "execution_count": 12,
   "metadata": {
    "collapsed": true
   },
   "outputs": [],
   "source": [
    "function kendall_mean(i, t, α, μ, ν)\n",
    "  x = exp((α - μ) * t)\n",
    "  return i * x + ν / (α - μ) * (x - 1)\n",
    "end\n",
    "\n",
    "t = result.t_index\n",
    "X = kendall_mean(X0, t, α, μ, ν);"
   ]
  },
  {
   "cell_type": "markdown",
   "metadata": {},
   "source": [
    "### Trajectory\n",
    "We plot independent realizations using `Trajectory` which takes the arguments\n",
    "\n",
    "> `result`: A `SimData` type,\n",
    "\n",
    "> `id`: a label for a particular species, and\n",
    "\n",
    "> `trial`: a label for a particular realization.\n",
    "\n",
    "Here we plot the first $5$ realizations for $X$ against the analytic solution."
   ]
  },
  {
   "cell_type": "code",
   "execution_count": 13,
   "metadata": {},
   "outputs": [
    {
     "data": {
      "text/html": [
       "<?xml version=\"1.0\" encoding=\"utf-8\"?>\n",
       "<svg xmlns=\"http://www.w3.org/2000/svg\" xmlns:xlink=\"http://www.w3.org/1999/xlink\" width=\"600\" height=\"400\" viewBox=\"0 0 600 400\">\n",
       "<defs>\n",
       "  <clipPath id=\"clip00\">\n",
       "    <rect x=\"0\" y=\"0\" width=\"600\" height=\"400\"/>\n",
       "  </clipPath>\n",
       "</defs>\n",
       "<polygon clip-path=\"url(#clip00)\" points=\"\n",
       "0,400 600,400 600,0 0,0 \n",
       "  \" fill=\"#ffffff\" fill-opacity=\"1\"/>\n",
       "<defs>\n",
       "  <clipPath id=\"clip01\">\n",
       "    <rect x=\"120\" y=\"0\" width=\"421\" height=\"400\"/>\n",
       "  </clipPath>\n",
       "</defs>\n",
       "<polygon clip-path=\"url(#clip00)\" points=\"\n",
       "39.3701,368.504 592.126,368.504 592.126,7.87402 39.3701,7.87402 \n",
       "  \" fill=\"#ffffff\" fill-opacity=\"1\"/>\n",
       "<defs>\n",
       "  <clipPath id=\"clip02\">\n",
       "    <rect x=\"39\" y=\"7\" width=\"554\" height=\"362\"/>\n",
       "  </clipPath>\n",
       "</defs>\n",
       "<polyline clip-path=\"url(#clip00)\" style=\"stroke:#000000; stroke-width:1; stroke-opacity:1; fill:none\" points=\"\n",
       "  39.3701,368.504 592.126,368.504 \n",
       "  \"/>\n",
       "<polyline clip-path=\"url(#clip00)\" style=\"stroke:#000000; stroke-width:1; stroke-opacity:1; fill:none\" points=\"\n",
       "  39.3701,368.504 39.3701,363.094 \n",
       "  \"/>\n",
       "<polyline clip-path=\"url(#clip00)\" style=\"stroke:#000000; stroke-width:1; stroke-opacity:1; fill:none\" points=\"\n",
       "  177.559,368.504 177.559,363.094 \n",
       "  \"/>\n",
       "<polyline clip-path=\"url(#clip00)\" style=\"stroke:#000000; stroke-width:1; stroke-opacity:1; fill:none\" points=\"\n",
       "  315.748,368.504 315.748,363.094 \n",
       "  \"/>\n",
       "<polyline clip-path=\"url(#clip00)\" style=\"stroke:#000000; stroke-width:1; stroke-opacity:1; fill:none\" points=\"\n",
       "  453.937,368.504 453.937,363.094 \n",
       "  \"/>\n",
       "<polyline clip-path=\"url(#clip00)\" style=\"stroke:#000000; stroke-width:1; stroke-opacity:1; fill:none\" points=\"\n",
       "  592.126,368.504 592.126,363.094 \n",
       "  \"/>\n",
       "<polyline clip-path=\"url(#clip00)\" style=\"stroke:#000000; stroke-width:1; stroke-opacity:1; fill:none\" points=\"\n",
       "  39.3701,368.504 39.3701,7.87402 \n",
       "  \"/>\n",
       "<polyline clip-path=\"url(#clip00)\" style=\"stroke:#000000; stroke-width:1; stroke-opacity:1; fill:none\" points=\"\n",
       "  39.3701,273.236 47.6614,273.236 \n",
       "  \"/>\n",
       "<polyline clip-path=\"url(#clip00)\" style=\"stroke:#000000; stroke-width:1; stroke-opacity:1; fill:none\" points=\"\n",
       "  39.3701,176.811 47.6614,176.811 \n",
       "  \"/>\n",
       "<polyline clip-path=\"url(#clip00)\" style=\"stroke:#000000; stroke-width:1; stroke-opacity:1; fill:none\" points=\"\n",
       "  39.3701,80.3857 47.6614,80.3857 \n",
       "  \"/>\n",
       "<g clip-path=\"url(#clip00)\">\n",
       "<text style=\"fill:#000000; fill-opacity:1; font-family:Arial,Helvetica Neue,Helvetica,sans-serif; font-size:12; text-anchor:middle;\" transform=\"rotate(0, 39.3701, 382.304)\" x=\"39.3701\" y=\"382.304\">0</text>\n",
       "</g>\n",
       "<g clip-path=\"url(#clip00)\">\n",
       "<text style=\"fill:#000000; fill-opacity:1; font-family:Arial,Helvetica Neue,Helvetica,sans-serif; font-size:12; text-anchor:middle;\" transform=\"rotate(0, 177.559, 382.304)\" x=\"177.559\" y=\"382.304\">1</text>\n",
       "</g>\n",
       "<g clip-path=\"url(#clip00)\">\n",
       "<text style=\"fill:#000000; fill-opacity:1; font-family:Arial,Helvetica Neue,Helvetica,sans-serif; font-size:12; text-anchor:middle;\" transform=\"rotate(0, 315.748, 382.304)\" x=\"315.748\" y=\"382.304\">2</text>\n",
       "</g>\n",
       "<g clip-path=\"url(#clip00)\">\n",
       "<text style=\"fill:#000000; fill-opacity:1; font-family:Arial,Helvetica Neue,Helvetica,sans-serif; font-size:12; text-anchor:middle;\" transform=\"rotate(0, 453.937, 382.304)\" x=\"453.937\" y=\"382.304\">3</text>\n",
       "</g>\n",
       "<g clip-path=\"url(#clip00)\">\n",
       "<text style=\"fill:#000000; fill-opacity:1; font-family:Arial,Helvetica Neue,Helvetica,sans-serif; font-size:12; text-anchor:middle;\" transform=\"rotate(0, 592.126, 382.304)\" x=\"592.126\" y=\"382.304\">4</text>\n",
       "</g>\n",
       "<g clip-path=\"url(#clip00)\">\n",
       "<text style=\"fill:#000000; fill-opacity:1; font-family:Arial,Helvetica Neue,Helvetica,sans-serif; font-size:12; text-anchor:end;\" transform=\"rotate(0, 33.3701, 277.736)\" x=\"33.3701\" y=\"277.736\">250</text>\n",
       "</g>\n",
       "<g clip-path=\"url(#clip00)\">\n",
       "<text style=\"fill:#000000; fill-opacity:1; font-family:Arial,Helvetica Neue,Helvetica,sans-serif; font-size:12; text-anchor:end;\" transform=\"rotate(0, 33.3701, 181.311)\" x=\"33.3701\" y=\"181.311\">500</text>\n",
       "</g>\n",
       "<g clip-path=\"url(#clip00)\">\n",
       "<text style=\"fill:#000000; fill-opacity:1; font-family:Arial,Helvetica Neue,Helvetica,sans-serif; font-size:12; text-anchor:end;\" transform=\"rotate(0, 33.3701, 84.8857)\" x=\"33.3701\" y=\"84.8857\">750</text>\n",
       "</g>\n",
       "<g clip-path=\"url(#clip00)\">\n",
       "<text style=\"fill:#000000; fill-opacity:1; font-family:Arial,Helvetica Neue,Helvetica,sans-serif; font-size:16; text-anchor:middle;\" transform=\"rotate(0, 315.748, 397.6)\" x=\"315.748\" y=\"397.6\">time</text>\n",
       "</g>\n",
       "<g clip-path=\"url(#clip00)\">\n",
       "<text style=\"fill:#000000; fill-opacity:1; font-family:Arial,Helvetica Neue,Helvetica,sans-serif; font-size:16; text-anchor:middle;\" transform=\"rotate(-90, 14.4, 188.189)\" x=\"14.4\" y=\"188.189\">population size</text>\n",
       "</g>\n",
       "<polyline clip-path=\"url(#clip02)\" style=\"stroke:#009af9; stroke-width:1; stroke-opacity:1; fill:none\" points=\"\n",
       "  39.3701,367.733 53.189,367.509 67.0079,367.263 80.8268,366.99 94.6457,366.689 108.465,366.356 122.283,365.989 136.102,365.582 149.921,365.133 163.74,364.636 \n",
       "  177.559,364.087 191.378,363.481 205.197,362.811 219.016,362.07 232.835,361.251 246.654,360.347 260.472,359.347 274.291,358.242 288.11,357.02 301.929,355.671 \n",
       "  315.748,354.179 329.567,352.531 343.386,350.709 357.205,348.695 371.024,346.47 384.843,344.011 398.661,341.293 412.48,338.289 426.299,334.969 440.118,331.3 \n",
       "  453.937,327.245 467.756,322.764 481.575,317.812 495.394,312.338 509.213,306.289 523.031,299.604 536.85,292.216 550.669,284.051 564.488,275.027 578.307,265.054 \n",
       "  592.126,254.032 \n",
       "  \"/>\n",
       "<polyline clip-path=\"url(#clip02)\" style=\"stroke:#e26f46; stroke-width:1; stroke-opacity:1; fill:none\" points=\"\n",
       "  39.3701,367.733 39.3701,367.347 53.189,367.347 53.189,367.733 67.0079,367.733 67.0079,366.575 80.8268,366.575 80.8268,364.261 94.6457,364.261 \n",
       "  108.465,364.261 108.465,362.333 122.283,362.333 122.283,361.176 136.102,361.176 136.102,358.476 149.921,358.476 149.921,357.319 163.74,357.319 163.74,355.776 \n",
       "  177.559,355.776 177.559,354.233 191.378,354.233 191.378,350.762 205.197,350.762 205.197,348.062 219.016,348.062 219.016,346.519 232.835,346.519 232.835,345.362 \n",
       "  246.654,345.362 246.654,341.891 260.472,341.891 260.472,339.962 274.291,339.962 274.291,334.177 288.11,334.177 288.11,329.548 301.929,329.548 301.929,326.463 \n",
       "  315.748,326.463 315.748,319.52 329.567,319.52 329.567,312.577 343.386,312.577 343.386,306.02 357.205,306.02 357.205,296.378 371.024,296.378 371.024,290.978 \n",
       "  384.843,290.978 384.843,280.179 398.661,280.179 398.661,270.15 412.48,270.15 412.48,262.051 426.299,262.051 426.299,250.48 440.118,250.48 440.118,240.066 \n",
       "  453.937,240.066 453.937,224.252 467.756,224.252 467.756,203.038 481.575,203.038 481.575,185.682 495.394,185.682 495.394,165.24 509.213,165.24 509.213,142.483 \n",
       "  523.031,142.483 523.031,115.484 536.85,115.484 536.85,96.9708 550.669,96.9708 550.669,74.9859 564.488,74.9859 564.488,49.144 578.307,49.144 578.307,7.87402 \n",
       "  592.126,7.87402 \n",
       "  \"/>\n",
       "<polyline clip-path=\"url(#clip02)\" style=\"stroke:#3da44d; stroke-width:1; stroke-opacity:1; fill:none\" points=\"\n",
       "  39.3701,367.733 39.3701,366.19 53.189,366.19 53.189,365.418 67.0079,365.418 80.8268,365.418 80.8268,365.033 94.6457,365.033 94.6457,365.418 \n",
       "  108.465,365.418 108.465,365.033 122.283,365.033 136.102,365.033 136.102,361.947 149.921,361.947 149.921,360.404 163.74,360.404 163.74,360.019 \n",
       "  177.559,360.019 177.559,358.476 191.378,358.476 191.378,357.319 205.197,357.319 205.197,354.233 219.016,354.233 219.016,352.69 232.835,352.69 232.835,350.376 \n",
       "  246.654,350.376 246.654,346.519 260.472,346.519 260.472,341.119 274.291,341.119 274.291,334.948 288.11,334.948 288.11,333.791 301.929,333.791 301.929,329.934 \n",
       "  315.748,329.934 315.748,326.463 329.567,326.463 329.567,322.22 343.386,322.22 343.386,318.749 357.205,318.749 357.205,315.663 371.024,315.663 371.024,307.949 \n",
       "  384.843,307.949 384.843,303.706 398.661,303.706 398.661,294.449 412.48,294.449 412.48,290.592 426.299,290.592 426.299,285.193 440.118,285.193 440.118,271.307 \n",
       "  453.937,271.307 453.937,260.122 467.756,260.122 467.756,252.022 481.575,252.022 481.575,237.751 495.394,237.751 495.394,220.781 509.213,220.781 509.213,203.81 \n",
       "  523.031,203.81 523.031,183.753 536.85,183.753 536.85,168.325 550.669,168.325 550.669,148.269 564.488,148.269 564.488,125.898 578.307,125.898 578.307,103.142 \n",
       "  592.126,103.142 \n",
       "  \"/>\n",
       "<polyline clip-path=\"url(#clip02)\" style=\"stroke:#c271d2; stroke-width:1; stroke-opacity:1; fill:none\" points=\"\n",
       "  39.3701,367.733 39.3701,368.504 53.189,368.504 67.0079,368.504 67.0079,368.118 80.8268,368.118 80.8268,368.504 94.6457,368.504 \n",
       "  108.465,368.504 108.465,368.118 122.283,368.118 122.283,367.347 136.102,367.347 136.102,366.961 149.921,366.961 149.921,367.733 163.74,367.733 163.74,367.347 \n",
       "  177.559,367.347 177.559,366.961 191.378,366.961 205.197,366.961 205.197,367.347 219.016,367.347 219.016,366.961 232.835,366.961 232.835,367.733 \n",
       "  246.654,367.733 246.654,366.575 260.472,366.575 260.472,365.804 274.291,365.804 274.291,365.033 288.11,365.033 288.11,365.418 301.929,365.418 301.929,366.19 \n",
       "  315.748,366.19 329.567,366.19 329.567,365.033 343.386,365.033 343.386,364.647 357.205,364.647 357.205,365.033 371.024,365.033 371.024,364.647 \n",
       "  384.843,364.647 384.843,364.261 398.661,364.261 398.661,363.876 412.48,363.876 412.48,363.49 426.299,363.49 426.299,362.718 440.118,362.718 440.118,361.561 \n",
       "  453.937,361.561 467.756,361.561 467.756,360.404 481.575,360.404 481.575,358.09 495.394,358.09 495.394,357.704 509.213,357.704 509.213,355.776 \n",
       "  523.031,355.776 536.85,355.776 536.85,355.39 550.669,355.39 550.669,355.004 564.488,355.004 564.488,353.847 578.307,353.847 578.307,353.462 \n",
       "  592.126,353.462 \n",
       "  \"/>\n",
       "<polyline clip-path=\"url(#clip02)\" style=\"stroke:#ac8d18; stroke-width:1; stroke-opacity:1; fill:none\" points=\"\n",
       "  39.3701,367.733 39.3701,367.347 53.189,367.347 67.0079,367.347 67.0079,366.961 80.8268,366.961 94.6457,366.961 94.6457,366.575 \n",
       "  108.465,366.575 108.465,365.418 122.283,365.418 122.283,363.876 136.102,363.876 136.102,363.49 149.921,363.49 163.74,363.49 \n",
       "  177.559,363.49 177.559,363.876 191.378,363.876 191.378,364.647 205.197,364.647 205.197,365.033 219.016,365.033 219.016,365.804 232.835,365.804 232.835,365.033 \n",
       "  246.654,365.033 246.654,363.876 260.472,363.876 260.472,363.49 274.291,363.49 274.291,363.104 288.11,363.104 288.11,361.947 301.929,361.947 301.929,360.79 \n",
       "  315.748,360.79 315.748,361.561 329.567,361.561 329.567,360.019 343.386,360.019 357.205,360.019 371.024,360.019 371.024,358.861 \n",
       "  384.843,358.861 384.843,358.09 398.661,358.09 398.661,355.004 412.48,355.004 412.48,351.919 426.299,351.919 426.299,351.147 440.118,351.147 440.118,350.762 \n",
       "  453.937,350.762 453.937,348.448 467.756,348.448 467.756,345.748 481.575,345.748 481.575,344.205 495.394,344.205 495.394,342.276 509.213,342.276 509.213,336.877 \n",
       "  523.031,336.877 523.031,334.177 536.85,334.177 536.85,327.234 550.669,327.234 550.669,323.377 564.488,323.377 564.488,317.591 578.307,317.591 578.307,315.663 \n",
       "  592.126,315.663 \n",
       "  \"/>\n",
       "<polyline clip-path=\"url(#clip02)\" style=\"stroke:#00a9ad; stroke-width:1; stroke-opacity:1; fill:none\" points=\"\n",
       "  39.3701,367.733 39.3701,367.347 53.189,367.347 67.0079,367.347 80.8268,367.347 80.8268,366.961 94.6457,366.961 94.6457,366.19 \n",
       "  108.465,366.19 122.283,366.19 136.102,366.19 149.921,366.19 149.921,366.575 163.74,366.575 163.74,365.418 \n",
       "  177.559,365.418 177.559,365.804 191.378,365.804 191.378,365.418 205.197,365.418 205.197,363.49 219.016,363.49 232.835,363.49 232.835,363.104 \n",
       "  246.654,363.104 246.654,362.333 260.472,362.333 260.472,362.718 274.291,362.718 274.291,361.176 288.11,361.176 288.11,359.633 301.929,359.633 301.929,358.476 \n",
       "  315.748,358.476 315.748,355.39 329.567,355.39 329.567,353.847 343.386,353.847 343.386,352.305 357.205,352.305 357.205,349.219 371.024,349.219 371.024,346.905 \n",
       "  384.843,346.905 384.843,345.362 398.661,345.362 398.661,343.433 412.48,343.433 412.48,341.119 426.299,341.119 440.118,341.119 440.118,334.948 \n",
       "  453.937,334.948 453.937,329.548 467.756,329.548 467.756,329.162 481.575,329.162 481.575,327.62 495.394,327.62 495.394,324.92 509.213,324.92 509.213,311.806 \n",
       "  523.031,311.806 523.031,307.949 536.85,307.949 536.85,301.392 550.669,301.392 550.669,296.378 564.488,296.378 564.488,290.592 578.307,290.592 578.307,281.721 \n",
       "  592.126,281.721 \n",
       "  \"/>\n",
       "<polygon clip-path=\"url(#clip00)\" points=\"\n",
       "473.948,134.594 574.126,134.594 574.126,28.754 473.948,28.754 \n",
       "  \" fill=\"#ffffff\" fill-opacity=\"1\"/>\n",
       "<polyline clip-path=\"url(#clip00)\" style=\"stroke:#000000; stroke-width:1; stroke-opacity:1; fill:none\" points=\"\n",
       "  473.948,134.594 574.126,134.594 574.126,28.754 473.948,28.754 473.948,134.594 \n",
       "  \"/>\n",
       "<polyline clip-path=\"url(#clip00)\" style=\"stroke:#009af9; stroke-width:1; stroke-opacity:1; fill:none\" points=\"\n",
       "  479.948,43.874 515.948,43.874 \n",
       "  \"/>\n",
       "<g clip-path=\"url(#clip00)\">\n",
       "<text style=\"fill:#000000; fill-opacity:1; font-family:Arial,Helvetica Neue,Helvetica,sans-serif; font-size:12; text-anchor:start;\" transform=\"rotate(0, 521.948, 48.374)\" x=\"521.948\" y=\"48.374\">analytic</text>\n",
       "</g>\n",
       "<polyline clip-path=\"url(#clip00)\" style=\"stroke:#e26f46; stroke-width:1; stroke-opacity:1; fill:none\" points=\"\n",
       "  479.948,58.994 515.948,58.994 \n",
       "  \"/>\n",
       "<g clip-path=\"url(#clip00)\">\n",
       "<text style=\"fill:#000000; fill-opacity:1; font-family:Arial,Helvetica Neue,Helvetica,sans-serif; font-size:12; text-anchor:start;\" transform=\"rotate(0, 521.948, 63.494)\" x=\"521.948\" y=\"63.494\">trial 1</text>\n",
       "</g>\n",
       "<polyline clip-path=\"url(#clip00)\" style=\"stroke:#3da44d; stroke-width:1; stroke-opacity:1; fill:none\" points=\"\n",
       "  479.948,74.114 515.948,74.114 \n",
       "  \"/>\n",
       "<g clip-path=\"url(#clip00)\">\n",
       "<text style=\"fill:#000000; fill-opacity:1; font-family:Arial,Helvetica Neue,Helvetica,sans-serif; font-size:12; text-anchor:start;\" transform=\"rotate(0, 521.948, 78.614)\" x=\"521.948\" y=\"78.614\">trial 2</text>\n",
       "</g>\n",
       "<polyline clip-path=\"url(#clip00)\" style=\"stroke:#c271d2; stroke-width:1; stroke-opacity:1; fill:none\" points=\"\n",
       "  479.948,89.234 515.948,89.234 \n",
       "  \"/>\n",
       "<g clip-path=\"url(#clip00)\">\n",
       "<text style=\"fill:#000000; fill-opacity:1; font-family:Arial,Helvetica Neue,Helvetica,sans-serif; font-size:12; text-anchor:start;\" transform=\"rotate(0, 521.948, 93.734)\" x=\"521.948\" y=\"93.734\">trial 3</text>\n",
       "</g>\n",
       "<polyline clip-path=\"url(#clip00)\" style=\"stroke:#ac8d18; stroke-width:1; stroke-opacity:1; fill:none\" points=\"\n",
       "  479.948,104.354 515.948,104.354 \n",
       "  \"/>\n",
       "<g clip-path=\"url(#clip00)\">\n",
       "<text style=\"fill:#000000; fill-opacity:1; font-family:Arial,Helvetica Neue,Helvetica,sans-serif; font-size:12; text-anchor:start;\" transform=\"rotate(0, 521.948, 108.854)\" x=\"521.948\" y=\"108.854\">trial 4</text>\n",
       "</g>\n",
       "<polyline clip-path=\"url(#clip00)\" style=\"stroke:#00a9ad; stroke-width:1; stroke-opacity:1; fill:none\" points=\"\n",
       "  479.948,119.474 515.948,119.474 \n",
       "  \"/>\n",
       "<g clip-path=\"url(#clip00)\">\n",
       "<text style=\"fill:#000000; fill-opacity:1; font-family:Arial,Helvetica Neue,Helvetica,sans-serif; font-size:12; text-anchor:start;\" transform=\"rotate(0, 521.948, 123.974)\" x=\"521.948\" y=\"123.974\">trial 5</text>\n",
       "</g>\n",
       "</svg>\n"
      ]
     },
     "execution_count": 13,
     "metadata": {},
     "output_type": "execute_result"
    }
   ],
   "source": [
    "sample_traj = plot(t, X, label = \"analytic\")\n",
    "for i in 1:5\n",
    "    plot!(sample_traj, Trajectory(result, \"X\", i), label = \"trial $(i)\")\n",
    "end\n",
    "sample_traj"
   ]
  },
  {
   "cell_type": "markdown",
   "metadata": {},
   "source": [
    "### Mean Trajectory\n",
    "\n",
    "Now we compare the average over all $10^5$ trajectories to the analytic solution for the mean. The shaded region corresponds to one standard deviation away from the mean."
   ]
  },
  {
   "cell_type": "code",
   "execution_count": 14,
   "metadata": {},
   "outputs": [
    {
     "data": {
      "text/html": [
       "<?xml version=\"1.0\" encoding=\"utf-8\"?>\n",
       "<svg xmlns=\"http://www.w3.org/2000/svg\" xmlns:xlink=\"http://www.w3.org/1999/xlink\" width=\"600\" height=\"400\" viewBox=\"0 0 600 400\">\n",
       "<defs>\n",
       "  <clipPath id=\"clip00\">\n",
       "    <rect x=\"0\" y=\"0\" width=\"600\" height=\"400\"/>\n",
       "  </clipPath>\n",
       "</defs>\n",
       "<polygon clip-path=\"url(#clip00)\" points=\"\n",
       "0,400 600,400 600,0 0,0 \n",
       "  \" fill=\"#ffffff\" fill-opacity=\"1\"/>\n",
       "<defs>\n",
       "  <clipPath id=\"clip01\">\n",
       "    <rect x=\"120\" y=\"0\" width=\"421\" height=\"400\"/>\n",
       "  </clipPath>\n",
       "</defs>\n",
       "<polygon clip-path=\"url(#clip00)\" points=\"\n",
       "39.3701,368.504 592.126,368.504 592.126,7.87402 39.3701,7.87402 \n",
       "  \" fill=\"#ffffff\" fill-opacity=\"1\"/>\n",
       "<defs>\n",
       "  <clipPath id=\"clip02\">\n",
       "    <rect x=\"39\" y=\"7\" width=\"554\" height=\"362\"/>\n",
       "  </clipPath>\n",
       "</defs>\n",
       "<polyline clip-path=\"url(#clip00)\" style=\"stroke:#000000; stroke-width:1; stroke-opacity:1; fill:none\" points=\"\n",
       "  39.3701,368.504 592.126,368.504 \n",
       "  \"/>\n",
       "<polyline clip-path=\"url(#clip00)\" style=\"stroke:#000000; stroke-width:1; stroke-opacity:1; fill:none\" points=\"\n",
       "  39.3701,368.504 39.3701,363.094 \n",
       "  \"/>\n",
       "<polyline clip-path=\"url(#clip00)\" style=\"stroke:#000000; stroke-width:1; stroke-opacity:1; fill:none\" points=\"\n",
       "  177.559,368.504 177.559,363.094 \n",
       "  \"/>\n",
       "<polyline clip-path=\"url(#clip00)\" style=\"stroke:#000000; stroke-width:1; stroke-opacity:1; fill:none\" points=\"\n",
       "  315.748,368.504 315.748,363.094 \n",
       "  \"/>\n",
       "<polyline clip-path=\"url(#clip00)\" style=\"stroke:#000000; stroke-width:1; stroke-opacity:1; fill:none\" points=\"\n",
       "  453.937,368.504 453.937,363.094 \n",
       "  \"/>\n",
       "<polyline clip-path=\"url(#clip00)\" style=\"stroke:#000000; stroke-width:1; stroke-opacity:1; fill:none\" points=\"\n",
       "  592.126,368.504 592.126,363.094 \n",
       "  \"/>\n",
       "<polyline clip-path=\"url(#clip00)\" style=\"stroke:#000000; stroke-width:1; stroke-opacity:1; fill:none\" points=\"\n",
       "  39.3701,368.504 39.3701,7.87402 \n",
       "  \"/>\n",
       "<polyline clip-path=\"url(#clip00)\" style=\"stroke:#000000; stroke-width:1; stroke-opacity:1; fill:none\" points=\"\n",
       "  39.3701,300.551 47.6614,300.551 \n",
       "  \"/>\n",
       "<polyline clip-path=\"url(#clip00)\" style=\"stroke:#000000; stroke-width:1; stroke-opacity:1; fill:none\" points=\"\n",
       "  39.3701,229.547 47.6614,229.547 \n",
       "  \"/>\n",
       "<polyline clip-path=\"url(#clip00)\" style=\"stroke:#000000; stroke-width:1; stroke-opacity:1; fill:none\" points=\"\n",
       "  39.3701,158.542 47.6614,158.542 \n",
       "  \"/>\n",
       "<polyline clip-path=\"url(#clip00)\" style=\"stroke:#000000; stroke-width:1; stroke-opacity:1; fill:none\" points=\"\n",
       "  39.3701,87.5368 47.6614,87.5368 \n",
       "  \"/>\n",
       "<polyline clip-path=\"url(#clip00)\" style=\"stroke:#000000; stroke-width:1; stroke-opacity:1; fill:none\" points=\"\n",
       "  39.3701,16.5319 47.6614,16.5319 \n",
       "  \"/>\n",
       "<g clip-path=\"url(#clip00)\">\n",
       "<text style=\"fill:#000000; fill-opacity:1; font-family:Arial,Helvetica Neue,Helvetica,sans-serif; font-size:12; text-anchor:middle;\" transform=\"rotate(0, 39.3701, 382.304)\" x=\"39.3701\" y=\"382.304\">0</text>\n",
       "</g>\n",
       "<g clip-path=\"url(#clip00)\">\n",
       "<text style=\"fill:#000000; fill-opacity:1; font-family:Arial,Helvetica Neue,Helvetica,sans-serif; font-size:12; text-anchor:middle;\" transform=\"rotate(0, 177.559, 382.304)\" x=\"177.559\" y=\"382.304\">1</text>\n",
       "</g>\n",
       "<g clip-path=\"url(#clip00)\">\n",
       "<text style=\"fill:#000000; fill-opacity:1; font-family:Arial,Helvetica Neue,Helvetica,sans-serif; font-size:12; text-anchor:middle;\" transform=\"rotate(0, 315.748, 382.304)\" x=\"315.748\" y=\"382.304\">2</text>\n",
       "</g>\n",
       "<g clip-path=\"url(#clip00)\">\n",
       "<text style=\"fill:#000000; fill-opacity:1; font-family:Arial,Helvetica Neue,Helvetica,sans-serif; font-size:12; text-anchor:middle;\" transform=\"rotate(0, 453.937, 382.304)\" x=\"453.937\" y=\"382.304\">3</text>\n",
       "</g>\n",
       "<g clip-path=\"url(#clip00)\">\n",
       "<text style=\"fill:#000000; fill-opacity:1; font-family:Arial,Helvetica Neue,Helvetica,sans-serif; font-size:12; text-anchor:middle;\" transform=\"rotate(0, 592.126, 382.304)\" x=\"592.126\" y=\"382.304\">4</text>\n",
       "</g>\n",
       "<g clip-path=\"url(#clip00)\">\n",
       "<text style=\"fill:#000000; fill-opacity:1; font-family:Arial,Helvetica Neue,Helvetica,sans-serif; font-size:12; text-anchor:end;\" transform=\"rotate(0, 33.3701, 305.051)\" x=\"33.3701\" y=\"305.051\">100</text>\n",
       "</g>\n",
       "<g clip-path=\"url(#clip00)\">\n",
       "<text style=\"fill:#000000; fill-opacity:1; font-family:Arial,Helvetica Neue,Helvetica,sans-serif; font-size:12; text-anchor:end;\" transform=\"rotate(0, 33.3701, 234.047)\" x=\"33.3701\" y=\"234.047\">200</text>\n",
       "</g>\n",
       "<g clip-path=\"url(#clip00)\">\n",
       "<text style=\"fill:#000000; fill-opacity:1; font-family:Arial,Helvetica Neue,Helvetica,sans-serif; font-size:12; text-anchor:end;\" transform=\"rotate(0, 33.3701, 163.042)\" x=\"33.3701\" y=\"163.042\">300</text>\n",
       "</g>\n",
       "<g clip-path=\"url(#clip00)\">\n",
       "<text style=\"fill:#000000; fill-opacity:1; font-family:Arial,Helvetica Neue,Helvetica,sans-serif; font-size:12; text-anchor:end;\" transform=\"rotate(0, 33.3701, 92.0368)\" x=\"33.3701\" y=\"92.0368\">400</text>\n",
       "</g>\n",
       "<g clip-path=\"url(#clip00)\">\n",
       "<text style=\"fill:#000000; fill-opacity:1; font-family:Arial,Helvetica Neue,Helvetica,sans-serif; font-size:12; text-anchor:end;\" transform=\"rotate(0, 33.3701, 21.0319)\" x=\"33.3701\" y=\"21.0319\">500</text>\n",
       "</g>\n",
       "<g clip-path=\"url(#clip00)\">\n",
       "<text style=\"fill:#000000; fill-opacity:1; font-family:Arial,Helvetica Neue,Helvetica,sans-serif; font-size:16; text-anchor:middle;\" transform=\"rotate(0, 315.748, 397.6)\" x=\"315.748\" y=\"397.6\">time</text>\n",
       "</g>\n",
       "<g clip-path=\"url(#clip00)\">\n",
       "<text style=\"fill:#000000; fill-opacity:1; font-family:Arial,Helvetica Neue,Helvetica,sans-serif; font-size:16; text-anchor:middle;\" transform=\"rotate(-90, 14.4, 188.189)\" x=\"14.4\" y=\"188.189\">mean population size</text>\n",
       "</g>\n",
       "<polygon clip-path=\"url(#clip02)\" points=\"\n",
       "39.3701,368.006 53.189,368.504 67.0079,368.497 80.8268,368.452 94.6457,368.316 108.465,368.172 122.283,368.024 136.102,367.851 149.921,367.63 163.74,367.381 \n",
       "  177.559,367.127 191.378,366.82 205.197,366.474 219.016,366.135 232.835,365.719 246.654,365.287 260.472,364.796 274.291,364.212 288.11,363.596 301.929,362.86 \n",
       "  315.748,362.115 329.567,361.265 343.386,360.312 357.205,359.26 371.024,358.116 384.843,356.84 398.661,355.414 412.48,353.791 426.299,352.109 440.118,350.197 \n",
       "  453.937,348.127 467.756,345.742 481.575,343.139 495.394,340.348 509.213,337.131 523.031,333.71 536.85,329.994 550.669,325.816 564.488,321.124 578.307,315.966 \n",
       "  592.126,310.732 592.126,7.87402 578.307,42.5609 564.488,73.8588 550.669,102.545 536.85,128.173 523.031,151.542 509.213,172.797 495.394,191.849 481.575,209.116 \n",
       "  467.756,224.936 453.937,238.906 440.118,251.675 426.299,263.141 412.48,273.723 398.661,283.136 384.843,291.803 371.024,299.434 357.205,306.502 343.386,312.894 \n",
       "  329.567,318.672 315.748,323.904 301.929,328.557 288.11,332.794 274.291,336.616 260.472,340.085 246.654,343.236 232.835,346.107 219.016,348.649 205.197,351.032 \n",
       "  191.378,353.123 177.559,355.062 163.74,356.834 149.921,358.409 136.102,359.836 122.283,361.081 108.465,362.278 94.6457,363.375 80.8268,364.38 67.0079,365.325 \n",
       "  53.189,366.192 39.3701,368.006 \n",
       "  \" fill=\"#009af9\" fill-opacity=\"0.3\"/>\n",
       "<polyline clip-path=\"url(#clip02)\" style=\"stroke:#009af9; stroke-width:1; stroke-opacity:1; fill:none\" points=\"\n",
       "  39.3701,368.006 53.189,367.348 67.0079,366.911 80.8268,366.416 94.6457,365.846 108.465,365.225 122.283,364.552 136.102,363.843 149.921,363.019 163.74,362.107 \n",
       "  177.559,361.094 191.378,359.971 205.197,358.753 219.016,357.392 232.835,355.913 246.654,354.262 260.472,352.441 274.291,350.414 288.11,348.195 301.929,345.709 \n",
       "  315.748,343.01 329.567,339.968 343.386,336.603 357.205,332.881 371.024,328.775 384.843,324.321 398.661,319.275 412.48,313.757 426.299,307.625 440.118,300.936 \n",
       "  453.937,293.516 467.756,285.339 481.575,276.128 495.394,266.099 509.213,254.964 523.031,242.626 536.85,229.084 550.669,214.18 564.488,197.492 578.307,179.264 \n",
       "  592.126,159.303 \n",
       "  \"/>\n",
       "<polyline clip-path=\"url(#clip02)\" style=\"stroke:#e26f46; stroke-width:1; stroke-opacity:1; fill:none\" points=\"\n",
       "  39.3701,368.006 53.189,367.595 67.0079,367.141 80.8268,366.64 94.6457,366.085 108.465,365.473 122.283,364.795 136.102,364.047 149.921,363.22 163.74,362.306 \n",
       "  177.559,361.296 191.378,360.179 205.197,358.945 219.016,357.582 232.835,356.075 246.654,354.409 260.472,352.568 274.291,350.534 288.11,348.286 301.929,345.801 \n",
       "  315.748,343.055 329.567,340.02 343.386,336.666 357.205,332.959 371.024,328.863 384.843,324.335 398.661,319.332 412.48,313.802 426.299,307.691 440.118,300.936 \n",
       "  453.937,293.472 467.756,285.222 481.575,276.105 495.394,266.029 509.213,254.893 523.031,242.587 536.85,228.985 550.669,213.954 564.488,197.341 578.307,178.981 \n",
       "  592.126,158.691 \n",
       "  \"/>\n",
       "<polygon clip-path=\"url(#clip00)\" points=\"\n",
       "460.781,74.114 574.126,74.114 574.126,28.754 460.781,28.754 \n",
       "  \" fill=\"#ffffff\" fill-opacity=\"1\"/>\n",
       "<polyline clip-path=\"url(#clip00)\" style=\"stroke:#000000; stroke-width:1; stroke-opacity:1; fill:none\" points=\"\n",
       "  460.781,74.114 574.126,74.114 574.126,28.754 460.781,28.754 460.781,74.114 \n",
       "  \"/>\n",
       "<polygon clip-path=\"url(#clip00)\" points=\"\n",
       "466.781,49.922 502.781,49.922 502.781,37.826 466.781,37.826 466.781,49.922 \n",
       "  \" fill=\"#009af9\" fill-opacity=\"0.3\"/>\n",
       "<polyline clip-path=\"url(#clip00)\" style=\"stroke:#009af9; stroke-width:1; stroke-opacity:0.3; fill:none\" points=\"\n",
       "  466.781,49.922 502.781,49.922 502.781,37.826 466.781,37.826 466.781,49.922 \n",
       "  \"/>\n",
       "<g clip-path=\"url(#clip00)\">\n",
       "<text style=\"fill:#000000; fill-opacity:1; font-family:Arial,Helvetica Neue,Helvetica,sans-serif; font-size:12; text-anchor:start;\" transform=\"rotate(0, 508.781, 48.374)\" x=\"508.781\" y=\"48.374\">simulation</text>\n",
       "</g>\n",
       "<polyline clip-path=\"url(#clip00)\" style=\"stroke:#e26f46; stroke-width:1; stroke-opacity:1; fill:none\" points=\"\n",
       "  466.781,58.994 502.781,58.994 \n",
       "  \"/>\n",
       "<g clip-path=\"url(#clip00)\">\n",
       "<text style=\"fill:#000000; fill-opacity:1; font-family:Arial,Helvetica Neue,Helvetica,sans-serif; font-size:12; text-anchor:start;\" transform=\"rotate(0, 508.781, 63.494)\" x=\"508.781\" y=\"63.494\">analytic</text>\n",
       "</g>\n",
       "</svg>\n"
      ]
     },
     "execution_count": 14,
     "metadata": {},
     "output_type": "execute_result"
    }
   ],
   "source": [
    "mean_traj = plot(MeanTrajectory(result, \"X\"), label = \"simulation\")\n",
    "plot!(mean_traj, t, X, label = \"analytic\")"
   ]
  },
  {
   "cell_type": "markdown",
   "metadata": {},
   "source": [
    "### Histogram\n",
    "\n",
    "Plotting the distribution of $X$ at $t = 4$ reveals extinction as a common event. This is an impossible event in the deterministic model\n",
    "\\\\[ \\frac{dx}{dt} = \\tilde{\\alpha} x^{2} - \\tilde{\\mu} x + \\tilde{\\nu}, \\\\]\n",
    "unless the death rate dominates the birth rate. Here $\\tilde{\\alpha}$, $\\tilde{\\mu}$, and $\\tilde{\\nu}$ are scaled versions of the stochastic rates. This is because stochastic rate constants have a volume dependence; i.e. they must account for how likely particles collide to react."
   ]
  },
  {
   "cell_type": "code",
   "execution_count": 15,
   "metadata": {},
   "outputs": [
    {
     "data": {
      "text/html": [
       "<?xml version=\"1.0\" encoding=\"utf-8\"?>\n",
       "<svg xmlns=\"http://www.w3.org/2000/svg\" xmlns:xlink=\"http://www.w3.org/1999/xlink\" width=\"600\" height=\"400\" viewBox=\"0 0 600 400\">\n",
       "<defs>\n",
       "  <clipPath id=\"clip00\">\n",
       "    <rect x=\"0\" y=\"0\" width=\"600\" height=\"400\"/>\n",
       "  </clipPath>\n",
       "</defs>\n",
       "<polygon clip-path=\"url(#clip00)\" points=\"\n",
       "0,400 600,400 600,0 0,0 \n",
       "  \" fill=\"#ffffff\" fill-opacity=\"1\"/>\n",
       "<defs>\n",
       "  <clipPath id=\"clip01\">\n",
       "    <rect x=\"120\" y=\"0\" width=\"421\" height=\"400\"/>\n",
       "  </clipPath>\n",
       "</defs>\n",
       "<polygon clip-path=\"url(#clip00)\" points=\"\n",
       "39.3701,368.504 592.126,368.504 592.126,7.87402 39.3701,7.87402 \n",
       "  \" fill=\"#ffffff\" fill-opacity=\"1\"/>\n",
       "<defs>\n",
       "  <clipPath id=\"clip02\">\n",
       "    <rect x=\"39\" y=\"7\" width=\"554\" height=\"362\"/>\n",
       "  </clipPath>\n",
       "</defs>\n",
       "<polyline clip-path=\"url(#clip00)\" style=\"stroke:#000000; stroke-width:1; stroke-opacity:1; fill:none\" points=\"\n",
       "  39.3701,368.504 592.126,368.504 \n",
       "  \"/>\n",
       "<polyline clip-path=\"url(#clip00)\" style=\"stroke:#000000; stroke-width:1; stroke-opacity:1; fill:none\" points=\"\n",
       "  55.0141,368.504 55.0141,363.094 \n",
       "  \"/>\n",
       "<polyline clip-path=\"url(#clip00)\" style=\"stroke:#000000; stroke-width:1; stroke-opacity:1; fill:none\" points=\"\n",
       "  303.332,368.504 303.332,363.094 \n",
       "  \"/>\n",
       "<polyline clip-path=\"url(#clip00)\" style=\"stroke:#000000; stroke-width:1; stroke-opacity:1; fill:none\" points=\"\n",
       "  551.65,368.504 551.65,363.094 \n",
       "  \"/>\n",
       "<polyline clip-path=\"url(#clip00)\" style=\"stroke:#000000; stroke-width:1; stroke-opacity:1; fill:none\" points=\"\n",
       "  39.3701,368.504 39.3701,7.87402 \n",
       "  \"/>\n",
       "<polyline clip-path=\"url(#clip00)\" style=\"stroke:#000000; stroke-width:1; stroke-opacity:1; fill:none\" points=\"\n",
       "  39.3701,368.504 47.6614,368.504 \n",
       "  \"/>\n",
       "<polyline clip-path=\"url(#clip00)\" style=\"stroke:#000000; stroke-width:1; stroke-opacity:1; fill:none\" points=\"\n",
       "  39.3701,279.46 47.6614,279.46 \n",
       "  \"/>\n",
       "<polyline clip-path=\"url(#clip00)\" style=\"stroke:#000000; stroke-width:1; stroke-opacity:1; fill:none\" points=\"\n",
       "  39.3701,190.415 47.6614,190.415 \n",
       "  \"/>\n",
       "<polyline clip-path=\"url(#clip00)\" style=\"stroke:#000000; stroke-width:1; stroke-opacity:1; fill:none\" points=\"\n",
       "  39.3701,101.371 47.6614,101.371 \n",
       "  \"/>\n",
       "<polyline clip-path=\"url(#clip00)\" style=\"stroke:#000000; stroke-width:1; stroke-opacity:1; fill:none\" points=\"\n",
       "  39.3701,12.3262 47.6614,12.3262 \n",
       "  \"/>\n",
       "<g clip-path=\"url(#clip00)\">\n",
       "<text style=\"fill:#000000; fill-opacity:1; font-family:Arial,Helvetica Neue,Helvetica,sans-serif; font-size:12; text-anchor:middle;\" transform=\"rotate(0, 55.0141, 382.304)\" x=\"55.0141\" y=\"382.304\">0</text>\n",
       "</g>\n",
       "<g clip-path=\"url(#clip00)\">\n",
       "<text style=\"fill:#000000; fill-opacity:1; font-family:Arial,Helvetica Neue,Helvetica,sans-serif; font-size:12; text-anchor:middle;\" transform=\"rotate(0, 303.332, 382.304)\" x=\"303.332\" y=\"382.304\">1000</text>\n",
       "</g>\n",
       "<g clip-path=\"url(#clip00)\">\n",
       "<text style=\"fill:#000000; fill-opacity:1; font-family:Arial,Helvetica Neue,Helvetica,sans-serif; font-size:12; text-anchor:middle;\" transform=\"rotate(0, 551.65, 382.304)\" x=\"551.65\" y=\"382.304\">2000</text>\n",
       "</g>\n",
       "<g clip-path=\"url(#clip00)\">\n",
       "<text style=\"fill:#000000; fill-opacity:1; font-family:Arial,Helvetica Neue,Helvetica,sans-serif; font-size:12; text-anchor:end;\" transform=\"rotate(0, 33.3701, 373.004)\" x=\"33.3701\" y=\"373.004\">0</text>\n",
       "</g>\n",
       "<g clip-path=\"url(#clip00)\">\n",
       "<text style=\"fill:#000000; fill-opacity:1; font-family:Arial,Helvetica Neue,Helvetica,sans-serif; font-size:12; text-anchor:end;\" transform=\"rotate(0, 33.3701, 283.96)\" x=\"33.3701\" y=\"283.96\">500</text>\n",
       "</g>\n",
       "<g clip-path=\"url(#clip00)\">\n",
       "<text style=\"fill:#000000; fill-opacity:1; font-family:Arial,Helvetica Neue,Helvetica,sans-serif; font-size:12; text-anchor:end;\" transform=\"rotate(0, 33.3701, 194.915)\" x=\"33.3701\" y=\"194.915\">1000</text>\n",
       "</g>\n",
       "<g clip-path=\"url(#clip00)\">\n",
       "<text style=\"fill:#000000; fill-opacity:1; font-family:Arial,Helvetica Neue,Helvetica,sans-serif; font-size:12; text-anchor:end;\" transform=\"rotate(0, 33.3701, 105.871)\" x=\"33.3701\" y=\"105.871\">1500</text>\n",
       "</g>\n",
       "<g clip-path=\"url(#clip00)\">\n",
       "<text style=\"fill:#000000; fill-opacity:1; font-family:Arial,Helvetica Neue,Helvetica,sans-serif; font-size:12; text-anchor:end;\" transform=\"rotate(0, 33.3701, 16.8262)\" x=\"33.3701\" y=\"16.8262\">2000</text>\n",
       "</g>\n",
       "<g clip-path=\"url(#clip00)\">\n",
       "<text style=\"fill:#000000; fill-opacity:1; font-family:Arial,Helvetica Neue,Helvetica,sans-serif; font-size:16; text-anchor:middle;\" transform=\"rotate(0, 315.748, 397.6)\" x=\"315.748\" y=\"397.6\">population size</text>\n",
       "</g>\n",
       "<g clip-path=\"url(#clip00)\">\n",
       "<text style=\"fill:#000000; fill-opacity:1; font-family:Arial,Helvetica Neue,Helvetica,sans-serif; font-size:16; text-anchor:middle;\" transform=\"rotate(-90, 14.4, 188.189)\" x=\"14.4\" y=\"188.189\">frequency</text>\n",
       "</g>\n",
       "<polygon clip-path=\"url(#clip02)\" points=\"\n",
       "55.0141,57.917 55.0141,368.504 79.8459,368.504 79.8459,57.917 55.0141,57.917 55.0141,57.917 \n",
       "  \" fill=\"#009af9\" fill-opacity=\"1\"/>\n",
       "<polyline clip-path=\"url(#clip02)\" style=\"stroke:#000000; stroke-width:1; stroke-opacity:1; fill:none\" points=\"\n",
       "  55.0141,57.917 55.0141,368.504 79.8459,368.504 79.8459,57.917 55.0141,57.917 \n",
       "  \"/>\n",
       "<polygon clip-path=\"url(#clip02)\" points=\"\n",
       "79.8459,7.87402 79.8459,368.504 104.678,368.504 104.678,7.87402 79.8459,7.87402 79.8459,7.87402 \n",
       "  \" fill=\"#009af9\" fill-opacity=\"1\"/>\n",
       "<polyline clip-path=\"url(#clip02)\" style=\"stroke:#000000; stroke-width:1; stroke-opacity:1; fill:none\" points=\"\n",
       "  79.8459,7.87402 79.8459,368.504 104.678,368.504 104.678,7.87402 79.8459,7.87402 \n",
       "  \"/>\n",
       "<polygon clip-path=\"url(#clip02)\" points=\"\n",
       "104.678,23.1897 104.678,368.504 129.51,368.504 129.51,23.1897 104.678,23.1897 104.678,23.1897 \n",
       "  \" fill=\"#009af9\" fill-opacity=\"1\"/>\n",
       "<polyline clip-path=\"url(#clip02)\" style=\"stroke:#000000; stroke-width:1; stroke-opacity:1; fill:none\" points=\"\n",
       "  104.678,23.1897 104.678,368.504 129.51,368.504 129.51,23.1897 104.678,23.1897 \n",
       "  \"/>\n",
       "<polygon clip-path=\"url(#clip02)\" points=\"\n",
       "129.51,83.3837 129.51,368.504 154.341,368.504 154.341,83.3837 129.51,83.3837 129.51,83.3837 \n",
       "  \" fill=\"#009af9\" fill-opacity=\"1\"/>\n",
       "<polyline clip-path=\"url(#clip02)\" style=\"stroke:#000000; stroke-width:1; stroke-opacity:1; fill:none\" points=\"\n",
       "  129.51,83.3837 129.51,368.504 154.341,368.504 154.341,83.3837 129.51,83.3837 \n",
       "  \"/>\n",
       "<polygon clip-path=\"url(#clip02)\" points=\"\n",
       "154.341,178.839 154.341,368.504 179.173,368.504 179.173,178.839 154.341,178.839 154.341,178.839 \n",
       "  \" fill=\"#009af9\" fill-opacity=\"1\"/>\n",
       "<polyline clip-path=\"url(#clip02)\" style=\"stroke:#000000; stroke-width:1; stroke-opacity:1; fill:none\" points=\"\n",
       "  154.341,178.839 154.341,368.504 179.173,368.504 179.173,178.839 154.341,178.839 \n",
       "  \"/>\n",
       "<polygon clip-path=\"url(#clip02)\" points=\"\n",
       "179.173,244.732 179.173,368.504 204.005,368.504 204.005,244.732 179.173,244.732 179.173,244.732 \n",
       "  \" fill=\"#009af9\" fill-opacity=\"1\"/>\n",
       "<polyline clip-path=\"url(#clip02)\" style=\"stroke:#000000; stroke-width:1; stroke-opacity:1; fill:none\" points=\"\n",
       "  179.173,244.732 179.173,368.504 204.005,368.504 204.005,244.732 179.173,244.732 \n",
       "  \"/>\n",
       "<polygon clip-path=\"url(#clip02)\" points=\"\n",
       "204.005,295.131 204.005,368.504 228.837,368.504 228.837,295.131 204.005,295.131 204.005,295.131 \n",
       "  \" fill=\"#009af9\" fill-opacity=\"1\"/>\n",
       "<polyline clip-path=\"url(#clip02)\" style=\"stroke:#000000; stroke-width:1; stroke-opacity:1; fill:none\" points=\"\n",
       "  204.005,295.131 204.005,368.504 228.837,368.504 228.837,295.131 204.005,295.131 \n",
       "  \"/>\n",
       "<polygon clip-path=\"url(#clip02)\" points=\"\n",
       "228.837,325.05 228.837,368.504 253.669,368.504 253.669,325.05 228.837,325.05 228.837,325.05 \n",
       "  \" fill=\"#009af9\" fill-opacity=\"1\"/>\n",
       "<polyline clip-path=\"url(#clip02)\" style=\"stroke:#000000; stroke-width:1; stroke-opacity:1; fill:none\" points=\"\n",
       "  228.837,325.05 228.837,368.504 253.669,368.504 253.669,325.05 228.837,325.05 \n",
       "  \"/>\n",
       "<polygon clip-path=\"url(#clip02)\" points=\"\n",
       "253.669,344.818 253.669,368.504 278.5,368.504 278.5,344.818 253.669,344.818 253.669,344.818 \n",
       "  \" fill=\"#009af9\" fill-opacity=\"1\"/>\n",
       "<polyline clip-path=\"url(#clip02)\" style=\"stroke:#000000; stroke-width:1; stroke-opacity:1; fill:none\" points=\"\n",
       "  253.669,344.818 253.669,368.504 278.5,368.504 278.5,344.818 253.669,344.818 \n",
       "  \"/>\n",
       "<polygon clip-path=\"url(#clip02)\" points=\"\n",
       "278.5,356.394 278.5,368.504 303.332,368.504 303.332,356.394 278.5,356.394 278.5,356.394 \n",
       "  \" fill=\"#009af9\" fill-opacity=\"1\"/>\n",
       "<polyline clip-path=\"url(#clip02)\" style=\"stroke:#000000; stroke-width:1; stroke-opacity:1; fill:none\" points=\"\n",
       "  278.5,356.394 278.5,368.504 303.332,368.504 303.332,356.394 278.5,356.394 \n",
       "  \"/>\n",
       "<polygon clip-path=\"url(#clip02)\" points=\"\n",
       "303.332,361.558 303.332,368.504 328.164,368.504 328.164,361.558 303.332,361.558 303.332,361.558 \n",
       "  \" fill=\"#009af9\" fill-opacity=\"1\"/>\n",
       "<polyline clip-path=\"url(#clip02)\" style=\"stroke:#000000; stroke-width:1; stroke-opacity:1; fill:none\" points=\"\n",
       "  303.332,361.558 303.332,368.504 328.164,368.504 328.164,361.558 303.332,361.558 \n",
       "  \"/>\n",
       "<polygon clip-path=\"url(#clip02)\" points=\"\n",
       "328.164,364.942 328.164,368.504 352.996,368.504 352.996,364.942 328.164,364.942 328.164,364.942 \n",
       "  \" fill=\"#009af9\" fill-opacity=\"1\"/>\n",
       "<polyline clip-path=\"url(#clip02)\" style=\"stroke:#000000; stroke-width:1; stroke-opacity:1; fill:none\" points=\"\n",
       "  328.164,364.942 328.164,368.504 352.996,368.504 352.996,364.942 328.164,364.942 \n",
       "  \"/>\n",
       "<polygon clip-path=\"url(#clip02)\" points=\"\n",
       "352.996,367.435 352.996,368.504 377.828,368.504 377.828,367.435 352.996,367.435 352.996,367.435 \n",
       "  \" fill=\"#009af9\" fill-opacity=\"1\"/>\n",
       "<polyline clip-path=\"url(#clip02)\" style=\"stroke:#000000; stroke-width:1; stroke-opacity:1; fill:none\" points=\"\n",
       "  352.996,367.435 352.996,368.504 377.828,368.504 377.828,367.435 352.996,367.435 \n",
       "  \"/>\n",
       "<polygon clip-path=\"url(#clip02)\" points=\"\n",
       "377.828,367.613 377.828,368.504 402.659,368.504 402.659,367.613 377.828,367.613 377.828,367.613 \n",
       "  \" fill=\"#009af9\" fill-opacity=\"1\"/>\n",
       "<polyline clip-path=\"url(#clip02)\" style=\"stroke:#000000; stroke-width:1; stroke-opacity:1; fill:none\" points=\"\n",
       "  377.828,367.613 377.828,368.504 402.659,368.504 402.659,367.613 377.828,367.613 \n",
       "  \"/>\n",
       "<polygon clip-path=\"url(#clip02)\" points=\"\n",
       "402.659,368.326 402.659,368.504 427.491,368.504 427.491,368.326 402.659,368.326 402.659,368.326 \n",
       "  \" fill=\"#009af9\" fill-opacity=\"1\"/>\n",
       "<polyline clip-path=\"url(#clip02)\" style=\"stroke:#000000; stroke-width:1; stroke-opacity:1; fill:none\" points=\"\n",
       "  402.659,368.326 402.659,368.504 427.491,368.504 427.491,368.326 402.659,368.326 \n",
       "  \"/>\n",
       "<polygon clip-path=\"url(#clip02)\" points=\"\n",
       "427.491,368.504 427.491,368.504 452.323,368.504 452.323,368.504 427.491,368.504 427.491,368.504 \n",
       "  \" fill=\"#009af9\" fill-opacity=\"1\"/>\n",
       "<polyline clip-path=\"url(#clip02)\" style=\"stroke:#000000; stroke-width:1; stroke-opacity:1; fill:none\" points=\"\n",
       "  427.491,368.504 427.491,368.504 452.323,368.504 427.491,368.504 \n",
       "  \"/>\n",
       "<polygon clip-path=\"url(#clip02)\" points=\"\n",
       "452.323,368.148 452.323,368.504 477.155,368.504 477.155,368.148 452.323,368.148 452.323,368.148 \n",
       "  \" fill=\"#009af9\" fill-opacity=\"1\"/>\n",
       "<polyline clip-path=\"url(#clip02)\" style=\"stroke:#000000; stroke-width:1; stroke-opacity:1; fill:none\" points=\"\n",
       "  452.323,368.148 452.323,368.504 477.155,368.504 477.155,368.148 452.323,368.148 \n",
       "  \"/>\n",
       "<polygon clip-path=\"url(#clip02)\" points=\"\n",
       "477.155,368.504 477.155,368.504 501.987,368.504 501.987,368.504 477.155,368.504 477.155,368.504 \n",
       "  \" fill=\"#009af9\" fill-opacity=\"1\"/>\n",
       "<polyline clip-path=\"url(#clip02)\" style=\"stroke:#000000; stroke-width:1; stroke-opacity:1; fill:none\" points=\"\n",
       "  477.155,368.504 477.155,368.504 501.987,368.504 477.155,368.504 \n",
       "  \"/>\n",
       "<polygon clip-path=\"url(#clip02)\" points=\"\n",
       "501.987,368.504 501.987,368.504 526.818,368.504 526.818,368.504 501.987,368.504 501.987,368.504 \n",
       "  \" fill=\"#009af9\" fill-opacity=\"1\"/>\n",
       "<polyline clip-path=\"url(#clip02)\" style=\"stroke:#000000; stroke-width:1; stroke-opacity:1; fill:none\" points=\"\n",
       "  501.987,368.504 501.987,368.504 526.818,368.504 501.987,368.504 \n",
       "  \"/>\n",
       "<polygon clip-path=\"url(#clip02)\" points=\"\n",
       "526.818,368.504 526.818,368.504 551.65,368.504 551.65,368.504 526.818,368.504 526.818,368.504 \n",
       "  \" fill=\"#009af9\" fill-opacity=\"1\"/>\n",
       "<polyline clip-path=\"url(#clip02)\" style=\"stroke:#000000; stroke-width:1; stroke-opacity:1; fill:none\" points=\"\n",
       "  526.818,368.504 526.818,368.504 551.65,368.504 526.818,368.504 \n",
       "  \"/>\n",
       "<polygon clip-path=\"url(#clip02)\" points=\"\n",
       "551.65,368.326 551.65,368.504 576.482,368.504 576.482,368.326 551.65,368.326 551.65,368.326 \n",
       "  \" fill=\"#009af9\" fill-opacity=\"1\"/>\n",
       "<polyline clip-path=\"url(#clip02)\" style=\"stroke:#000000; stroke-width:1; stroke-opacity:1; fill:none\" points=\"\n",
       "  551.65,368.326 551.65,368.504 576.482,368.504 576.482,368.326 551.65,368.326 \n",
       "  \"/>\n",
       "<polygon clip-path=\"url(#clip00)\" points=\"\n",
       "506.221,58.994 574.126,58.994 574.126,28.754 506.221,28.754 \n",
       "  \" fill=\"#ffffff\" fill-opacity=\"1\"/>\n",
       "<polyline clip-path=\"url(#clip00)\" style=\"stroke:#000000; stroke-width:1; stroke-opacity:1; fill:none\" points=\"\n",
       "  506.221,58.994 574.126,58.994 574.126,28.754 506.221,28.754 506.221,58.994 \n",
       "  \"/>\n",
       "<polygon clip-path=\"url(#clip00)\" points=\"\n",
       "512.221,49.922 548.221,49.922 548.221,37.826 512.221,37.826 512.221,49.922 \n",
       "  \" fill=\"#009af9\" fill-opacity=\"1\"/>\n",
       "<polyline clip-path=\"url(#clip00)\" style=\"stroke:#000000; stroke-width:1; stroke-opacity:1; fill:none\" points=\"\n",
       "  512.221,49.922 548.221,49.922 548.221,37.826 512.221,37.826 512.221,49.922 \n",
       "  \"/>\n",
       "<g clip-path=\"url(#clip00)\">\n",
       "<text style=\"fill:#000000; fill-opacity:1; font-family:Arial,Helvetica Neue,Helvetica,sans-serif; font-size:12; text-anchor:start;\" transform=\"rotate(0, 554.221, 48.374)\" x=\"554.221\" y=\"48.374\">X</text>\n",
       "</g>\n",
       "</svg>\n"
      ]
     },
     "execution_count": 15,
     "metadata": {},
     "output_type": "execute_result"
    }
   ],
   "source": [
    "histo = plot(Histogram(result, \"X\", 4.0))"
   ]
  },
  {
   "cell_type": "markdown",
   "metadata": {},
   "source": [
    "## Benchmarks\n",
    "\n",
    "The following benchmarks measure how much compute time is required to generate a single trajectory. Note that there is significant overhead from using the `gcsample=true` option."
   ]
  },
  {
   "cell_type": "code",
   "execution_count": 16,
   "metadata": {
    "collapsed": true
   },
   "outputs": [],
   "source": [
    "using BenchmarkTools"
   ]
  },
  {
   "cell_type": "markdown",
   "metadata": {},
   "source": [
    "### SSA"
   ]
  },
  {
   "cell_type": "code",
   "execution_count": 17,
   "metadata": {},
   "outputs": [
    {
     "data": {
      "text/plain": [
       "BenchmarkTools.Trial: \n",
       "  memory estimate:  27.56 KiB\n",
       "  allocs estimate:  423\n",
       "  --------------\n",
       "  minimum time:     702.886 μs (0.00% GC)\n",
       "  median time:      772.851 μs (0.00% GC)\n",
       "  mean time:        825.347 μs (0.00% GC)\n",
       "  maximum time:     1.070 ms (0.00% GC)\n",
       "  --------------\n",
       "  samples:          10\n",
       "  evals/sample:     1"
      ]
     },
     "execution_count": 17,
     "metadata": {},
     "output_type": "execute_result"
    }
   ],
   "source": [
    "@benchmark simulate($kendall(), SSA, time = 4.0, epochs = 40) gcsample=true"
   ]
  },
  {
   "cell_type": "markdown",
   "metadata": {},
   "source": [
    "### FRM"
   ]
  },
  {
   "cell_type": "code",
   "execution_count": 18,
   "metadata": {},
   "outputs": [
    {
     "data": {
      "text/plain": [
       "BenchmarkTools.Trial: \n",
       "  memory estimate:  27.56 KiB\n",
       "  allocs estimate:  423\n",
       "  --------------\n",
       "  minimum time:     686.497 μs (0.00% GC)\n",
       "  median time:      801.375 μs (0.00% GC)\n",
       "  mean time:        836.053 μs (0.00% GC)\n",
       "  maximum time:     996.362 μs (0.00% GC)\n",
       "  --------------\n",
       "  samples:          10\n",
       "  evals/sample:     1"
      ]
     },
     "execution_count": 18,
     "metadata": {},
     "output_type": "execute_result"
    }
   ],
   "source": [
    "@benchmark simulate($kendall(), FRM, time = 4.0, epochs = 40) gcsample=true"
   ]
  },
  {
   "cell_type": "markdown",
   "metadata": {},
   "source": [
    "### NRM"
   ]
  },
  {
   "cell_type": "code",
   "execution_count": 19,
   "metadata": {},
   "outputs": [
    {
     "data": {
      "text/plain": [
       "BenchmarkTools.Trial: \n",
       "  memory estimate:  28.34 KiB\n",
       "  allocs estimate:  430\n",
       "  --------------\n",
       "  minimum time:     596.234 μs (0.00% GC)\n",
       "  median time:      1.073 ms (0.00% GC)\n",
       "  mean time:        1.102 ms (0.00% GC)\n",
       "  maximum time:     1.774 ms (0.00% GC)\n",
       "  --------------\n",
       "  samples:          10\n",
       "  evals/sample:     1"
      ]
     },
     "execution_count": 19,
     "metadata": {},
     "output_type": "execute_result"
    }
   ],
   "source": [
    "@benchmark simulate($kendall(), NRM, time = 4.0, epochs = 40) gcsample=true"
   ]
  },
  {
   "cell_type": "markdown",
   "metadata": {},
   "source": [
    "### ODM"
   ]
  },
  {
   "cell_type": "code",
   "execution_count": 20,
   "metadata": {},
   "outputs": [
    {
     "data": {
      "text/plain": [
       "BenchmarkTools.Trial: \n",
       "  memory estimate:  28.30 KiB\n",
       "  allocs estimate:  434\n",
       "  --------------\n",
       "  minimum time:     698.758 μs (0.00% GC)\n",
       "  median time:      938.300 μs (0.00% GC)\n",
       "  mean time:        951.676 μs (0.00% GC)\n",
       "  maximum time:     1.366 ms (0.00% GC)\n",
       "  --------------\n",
       "  samples:          9\n",
       "  evals/sample:     1"
      ]
     },
     "execution_count": 20,
     "metadata": {},
     "output_type": "execute_result"
    }
   ],
   "source": [
    "@benchmark simulate($kendall(), ODM, time = 4.0, epochs = 40) gcsample=true"
   ]
  },
  {
   "cell_type": "markdown",
   "metadata": {},
   "source": [
    "### SAL"
   ]
  },
  {
   "cell_type": "code",
   "execution_count": 21,
   "metadata": {},
   "outputs": [
    {
     "data": {
      "text/plain": [
       "BenchmarkTools.Trial: \n",
       "  memory estimate:  28.23 KiB\n",
       "  allocs estimate:  430\n",
       "  --------------\n",
       "  minimum time:     590.366 μs (0.00% GC)\n",
       "  median time:      707.590 μs (0.00% GC)\n",
       "  mean time:        767.801 μs (0.00% GC)\n",
       "  maximum time:     965.200 μs (0.00% GC)\n",
       "  --------------\n",
       "  samples:          10\n",
       "  evals/sample:     1"
      ]
     },
     "execution_count": 21,
     "metadata": {},
     "output_type": "execute_result"
    }
   ],
   "source": [
    "@benchmark simulate($kendall(), SAL, time = 4.0, epochs = 40) gcsample=true"
   ]
  }
 ],
 "metadata": {
  "kernelspec": {
   "display_name": "Julia 0.5.2",
   "language": "julia",
   "name": "julia-0.5"
  },
  "language_info": {
   "file_extension": ".jl",
   "mimetype": "application/julia",
   "name": "julia",
   "version": "0.5.2"
  }
 },
 "nbformat": 4,
 "nbformat_minor": 2
}
